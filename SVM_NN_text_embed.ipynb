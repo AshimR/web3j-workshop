{
  "nbformat": 4,
  "nbformat_minor": 0,
  "metadata": {
    "colab": {
      "provenance": [],
      "authorship_tag": "ABX9TyPg55CWKlYtFnVSzykFi7CO",
      "include_colab_link": true
    },
    "kernelspec": {
      "name": "python3",
      "display_name": "Python 3"
    },
    "language_info": {
      "name": "python"
    },
    "widgets": {
      "application/vnd.jupyter.widget-state+json": {
        "36ad7261415f4f2dacd1e4c7061dff0a": {
          "model_module": "@jupyter-widgets/controls",
          "model_name": "HBoxModel",
          "model_module_version": "1.5.0",
          "state": {
            "_dom_classes": [],
            "_model_module": "@jupyter-widgets/controls",
            "_model_module_version": "1.5.0",
            "_model_name": "HBoxModel",
            "_view_count": null,
            "_view_module": "@jupyter-widgets/controls",
            "_view_module_version": "1.5.0",
            "_view_name": "HBoxView",
            "box_style": "",
            "children": [
              "IPY_MODEL_660763b4fb5a44538e13a48ac56c5e1c",
              "IPY_MODEL_90a0f6dd09ee4b7d96ae2f1cc6e69928",
              "IPY_MODEL_0bbe29e058f141eaa35ebbb0c7729766"
            ],
            "layout": "IPY_MODEL_a136e94ccccc493c8d7c7c2bd0622048"
          }
        },
        "660763b4fb5a44538e13a48ac56c5e1c": {
          "model_module": "@jupyter-widgets/controls",
          "model_name": "HTMLModel",
          "model_module_version": "1.5.0",
          "state": {
            "_dom_classes": [],
            "_model_module": "@jupyter-widgets/controls",
            "_model_module_version": "1.5.0",
            "_model_name": "HTMLModel",
            "_view_count": null,
            "_view_module": "@jupyter-widgets/controls",
            "_view_module_version": "1.5.0",
            "_view_name": "HTMLView",
            "description": "",
            "description_tooltip": null,
            "layout": "IPY_MODEL_04f90a77b0d54231b591770b7542461f",
            "placeholder": "​",
            "style": "IPY_MODEL_3e989c85f43b4b96ac39e31ddd0a203e",
            "value": "config.json: 100%"
          }
        },
        "90a0f6dd09ee4b7d96ae2f1cc6e69928": {
          "model_module": "@jupyter-widgets/controls",
          "model_name": "FloatProgressModel",
          "model_module_version": "1.5.0",
          "state": {
            "_dom_classes": [],
            "_model_module": "@jupyter-widgets/controls",
            "_model_module_version": "1.5.0",
            "_model_name": "FloatProgressModel",
            "_view_count": null,
            "_view_module": "@jupyter-widgets/controls",
            "_view_module_version": "1.5.0",
            "_view_name": "ProgressView",
            "bar_style": "success",
            "description": "",
            "description_tooltip": null,
            "layout": "IPY_MODEL_51ffabeb546446f48c7c27df0bf30194",
            "max": 385,
            "min": 0,
            "orientation": "horizontal",
            "style": "IPY_MODEL_5ac28edf948449c8a3270c44491f3e83",
            "value": 385
          }
        },
        "0bbe29e058f141eaa35ebbb0c7729766": {
          "model_module": "@jupyter-widgets/controls",
          "model_name": "HTMLModel",
          "model_module_version": "1.5.0",
          "state": {
            "_dom_classes": [],
            "_model_module": "@jupyter-widgets/controls",
            "_model_module_version": "1.5.0",
            "_model_name": "HTMLModel",
            "_view_count": null,
            "_view_module": "@jupyter-widgets/controls",
            "_view_module_version": "1.5.0",
            "_view_name": "HTMLView",
            "description": "",
            "description_tooltip": null,
            "layout": "IPY_MODEL_64e3d44449b745fb849dc5248175b223",
            "placeholder": "​",
            "style": "IPY_MODEL_37facb69c42c4dd8ba89d170d02a4224",
            "value": " 385/385 [00:00&lt;00:00, 6.23kB/s]"
          }
        },
        "a136e94ccccc493c8d7c7c2bd0622048": {
          "model_module": "@jupyter-widgets/base",
          "model_name": "LayoutModel",
          "model_module_version": "1.2.0",
          "state": {
            "_model_module": "@jupyter-widgets/base",
            "_model_module_version": "1.2.0",
            "_model_name": "LayoutModel",
            "_view_count": null,
            "_view_module": "@jupyter-widgets/base",
            "_view_module_version": "1.2.0",
            "_view_name": "LayoutView",
            "align_content": null,
            "align_items": null,
            "align_self": null,
            "border": null,
            "bottom": null,
            "display": null,
            "flex": null,
            "flex_flow": null,
            "grid_area": null,
            "grid_auto_columns": null,
            "grid_auto_flow": null,
            "grid_auto_rows": null,
            "grid_column": null,
            "grid_gap": null,
            "grid_row": null,
            "grid_template_areas": null,
            "grid_template_columns": null,
            "grid_template_rows": null,
            "height": null,
            "justify_content": null,
            "justify_items": null,
            "left": null,
            "margin": null,
            "max_height": null,
            "max_width": null,
            "min_height": null,
            "min_width": null,
            "object_fit": null,
            "object_position": null,
            "order": null,
            "overflow": null,
            "overflow_x": null,
            "overflow_y": null,
            "padding": null,
            "right": null,
            "top": null,
            "visibility": null,
            "width": null
          }
        },
        "04f90a77b0d54231b591770b7542461f": {
          "model_module": "@jupyter-widgets/base",
          "model_name": "LayoutModel",
          "model_module_version": "1.2.0",
          "state": {
            "_model_module": "@jupyter-widgets/base",
            "_model_module_version": "1.2.0",
            "_model_name": "LayoutModel",
            "_view_count": null,
            "_view_module": "@jupyter-widgets/base",
            "_view_module_version": "1.2.0",
            "_view_name": "LayoutView",
            "align_content": null,
            "align_items": null,
            "align_self": null,
            "border": null,
            "bottom": null,
            "display": null,
            "flex": null,
            "flex_flow": null,
            "grid_area": null,
            "grid_auto_columns": null,
            "grid_auto_flow": null,
            "grid_auto_rows": null,
            "grid_column": null,
            "grid_gap": null,
            "grid_row": null,
            "grid_template_areas": null,
            "grid_template_columns": null,
            "grid_template_rows": null,
            "height": null,
            "justify_content": null,
            "justify_items": null,
            "left": null,
            "margin": null,
            "max_height": null,
            "max_width": null,
            "min_height": null,
            "min_width": null,
            "object_fit": null,
            "object_position": null,
            "order": null,
            "overflow": null,
            "overflow_x": null,
            "overflow_y": null,
            "padding": null,
            "right": null,
            "top": null,
            "visibility": null,
            "width": null
          }
        },
        "3e989c85f43b4b96ac39e31ddd0a203e": {
          "model_module": "@jupyter-widgets/controls",
          "model_name": "DescriptionStyleModel",
          "model_module_version": "1.5.0",
          "state": {
            "_model_module": "@jupyter-widgets/controls",
            "_model_module_version": "1.5.0",
            "_model_name": "DescriptionStyleModel",
            "_view_count": null,
            "_view_module": "@jupyter-widgets/base",
            "_view_module_version": "1.2.0",
            "_view_name": "StyleView",
            "description_width": ""
          }
        },
        "51ffabeb546446f48c7c27df0bf30194": {
          "model_module": "@jupyter-widgets/base",
          "model_name": "LayoutModel",
          "model_module_version": "1.2.0",
          "state": {
            "_model_module": "@jupyter-widgets/base",
            "_model_module_version": "1.2.0",
            "_model_name": "LayoutModel",
            "_view_count": null,
            "_view_module": "@jupyter-widgets/base",
            "_view_module_version": "1.2.0",
            "_view_name": "LayoutView",
            "align_content": null,
            "align_items": null,
            "align_self": null,
            "border": null,
            "bottom": null,
            "display": null,
            "flex": null,
            "flex_flow": null,
            "grid_area": null,
            "grid_auto_columns": null,
            "grid_auto_flow": null,
            "grid_auto_rows": null,
            "grid_column": null,
            "grid_gap": null,
            "grid_row": null,
            "grid_template_areas": null,
            "grid_template_columns": null,
            "grid_template_rows": null,
            "height": null,
            "justify_content": null,
            "justify_items": null,
            "left": null,
            "margin": null,
            "max_height": null,
            "max_width": null,
            "min_height": null,
            "min_width": null,
            "object_fit": null,
            "object_position": null,
            "order": null,
            "overflow": null,
            "overflow_x": null,
            "overflow_y": null,
            "padding": null,
            "right": null,
            "top": null,
            "visibility": null,
            "width": null
          }
        },
        "5ac28edf948449c8a3270c44491f3e83": {
          "model_module": "@jupyter-widgets/controls",
          "model_name": "ProgressStyleModel",
          "model_module_version": "1.5.0",
          "state": {
            "_model_module": "@jupyter-widgets/controls",
            "_model_module_version": "1.5.0",
            "_model_name": "ProgressStyleModel",
            "_view_count": null,
            "_view_module": "@jupyter-widgets/base",
            "_view_module_version": "1.2.0",
            "_view_name": "StyleView",
            "bar_color": null,
            "description_width": ""
          }
        },
        "64e3d44449b745fb849dc5248175b223": {
          "model_module": "@jupyter-widgets/base",
          "model_name": "LayoutModel",
          "model_module_version": "1.2.0",
          "state": {
            "_model_module": "@jupyter-widgets/base",
            "_model_module_version": "1.2.0",
            "_model_name": "LayoutModel",
            "_view_count": null,
            "_view_module": "@jupyter-widgets/base",
            "_view_module_version": "1.2.0",
            "_view_name": "LayoutView",
            "align_content": null,
            "align_items": null,
            "align_self": null,
            "border": null,
            "bottom": null,
            "display": null,
            "flex": null,
            "flex_flow": null,
            "grid_area": null,
            "grid_auto_columns": null,
            "grid_auto_flow": null,
            "grid_auto_rows": null,
            "grid_column": null,
            "grid_gap": null,
            "grid_row": null,
            "grid_template_areas": null,
            "grid_template_columns": null,
            "grid_template_rows": null,
            "height": null,
            "justify_content": null,
            "justify_items": null,
            "left": null,
            "margin": null,
            "max_height": null,
            "max_width": null,
            "min_height": null,
            "min_width": null,
            "object_fit": null,
            "object_position": null,
            "order": null,
            "overflow": null,
            "overflow_x": null,
            "overflow_y": null,
            "padding": null,
            "right": null,
            "top": null,
            "visibility": null,
            "width": null
          }
        },
        "37facb69c42c4dd8ba89d170d02a4224": {
          "model_module": "@jupyter-widgets/controls",
          "model_name": "DescriptionStyleModel",
          "model_module_version": "1.5.0",
          "state": {
            "_model_module": "@jupyter-widgets/controls",
            "_model_module_version": "1.5.0",
            "_model_name": "DescriptionStyleModel",
            "_view_count": null,
            "_view_module": "@jupyter-widgets/base",
            "_view_module_version": "1.2.0",
            "_view_name": "StyleView",
            "description_width": ""
          }
        },
        "83656126986a4d91bd57a17bf9c72127": {
          "model_module": "@jupyter-widgets/controls",
          "model_name": "HBoxModel",
          "model_module_version": "1.5.0",
          "state": {
            "_dom_classes": [],
            "_model_module": "@jupyter-widgets/controls",
            "_model_module_version": "1.5.0",
            "_model_name": "HBoxModel",
            "_view_count": null,
            "_view_module": "@jupyter-widgets/controls",
            "_view_module_version": "1.5.0",
            "_view_name": "HBoxView",
            "box_style": "",
            "children": [
              "IPY_MODEL_966dcad9e28f4291b021b963e82c4c54",
              "IPY_MODEL_3f5d354038d94a7c8814e2bfd8c214ad",
              "IPY_MODEL_9a1b9770781e4340a433b0476b66ca60"
            ],
            "layout": "IPY_MODEL_79206eb453a44c15aa240937a59aaecf"
          }
        },
        "966dcad9e28f4291b021b963e82c4c54": {
          "model_module": "@jupyter-widgets/controls",
          "model_name": "HTMLModel",
          "model_module_version": "1.5.0",
          "state": {
            "_dom_classes": [],
            "_model_module": "@jupyter-widgets/controls",
            "_model_module_version": "1.5.0",
            "_model_name": "HTMLModel",
            "_view_count": null,
            "_view_module": "@jupyter-widgets/controls",
            "_view_module_version": "1.5.0",
            "_view_name": "HTMLView",
            "description": "",
            "description_tooltip": null,
            "layout": "IPY_MODEL_b646344e2f0e4664801f1ffea940b59e",
            "placeholder": "​",
            "style": "IPY_MODEL_52f4196a30c2481c82c593e53494ca4d",
            "value": "vocab.txt: 100%"
          }
        },
        "3f5d354038d94a7c8814e2bfd8c214ad": {
          "model_module": "@jupyter-widgets/controls",
          "model_name": "FloatProgressModel",
          "model_module_version": "1.5.0",
          "state": {
            "_dom_classes": [],
            "_model_module": "@jupyter-widgets/controls",
            "_model_module_version": "1.5.0",
            "_model_name": "FloatProgressModel",
            "_view_count": null,
            "_view_module": "@jupyter-widgets/controls",
            "_view_module_version": "1.5.0",
            "_view_name": "ProgressView",
            "bar_style": "success",
            "description": "",
            "description_tooltip": null,
            "layout": "IPY_MODEL_9ae798b3e144446fb24dab164facb38e",
            "max": 213450,
            "min": 0,
            "orientation": "horizontal",
            "style": "IPY_MODEL_4f03d36733d34e9ba613511b68d3eea1",
            "value": 213450
          }
        },
        "9a1b9770781e4340a433b0476b66ca60": {
          "model_module": "@jupyter-widgets/controls",
          "model_name": "HTMLModel",
          "model_module_version": "1.5.0",
          "state": {
            "_dom_classes": [],
            "_model_module": "@jupyter-widgets/controls",
            "_model_module_version": "1.5.0",
            "_model_name": "HTMLModel",
            "_view_count": null,
            "_view_module": "@jupyter-widgets/controls",
            "_view_module_version": "1.5.0",
            "_view_name": "HTMLView",
            "description": "",
            "description_tooltip": null,
            "layout": "IPY_MODEL_9668d2533be6438aaa6c6887119dba2e",
            "placeholder": "​",
            "style": "IPY_MODEL_caf71256e563434da12ba537af80fab0",
            "value": " 213k/213k [00:00&lt;00:00, 2.05MB/s]"
          }
        },
        "79206eb453a44c15aa240937a59aaecf": {
          "model_module": "@jupyter-widgets/base",
          "model_name": "LayoutModel",
          "model_module_version": "1.2.0",
          "state": {
            "_model_module": "@jupyter-widgets/base",
            "_model_module_version": "1.2.0",
            "_model_name": "LayoutModel",
            "_view_count": null,
            "_view_module": "@jupyter-widgets/base",
            "_view_module_version": "1.2.0",
            "_view_name": "LayoutView",
            "align_content": null,
            "align_items": null,
            "align_self": null,
            "border": null,
            "bottom": null,
            "display": null,
            "flex": null,
            "flex_flow": null,
            "grid_area": null,
            "grid_auto_columns": null,
            "grid_auto_flow": null,
            "grid_auto_rows": null,
            "grid_column": null,
            "grid_gap": null,
            "grid_row": null,
            "grid_template_areas": null,
            "grid_template_columns": null,
            "grid_template_rows": null,
            "height": null,
            "justify_content": null,
            "justify_items": null,
            "left": null,
            "margin": null,
            "max_height": null,
            "max_width": null,
            "min_height": null,
            "min_width": null,
            "object_fit": null,
            "object_position": null,
            "order": null,
            "overflow": null,
            "overflow_x": null,
            "overflow_y": null,
            "padding": null,
            "right": null,
            "top": null,
            "visibility": null,
            "width": null
          }
        },
        "b646344e2f0e4664801f1ffea940b59e": {
          "model_module": "@jupyter-widgets/base",
          "model_name": "LayoutModel",
          "model_module_version": "1.2.0",
          "state": {
            "_model_module": "@jupyter-widgets/base",
            "_model_module_version": "1.2.0",
            "_model_name": "LayoutModel",
            "_view_count": null,
            "_view_module": "@jupyter-widgets/base",
            "_view_module_version": "1.2.0",
            "_view_name": "LayoutView",
            "align_content": null,
            "align_items": null,
            "align_self": null,
            "border": null,
            "bottom": null,
            "display": null,
            "flex": null,
            "flex_flow": null,
            "grid_area": null,
            "grid_auto_columns": null,
            "grid_auto_flow": null,
            "grid_auto_rows": null,
            "grid_column": null,
            "grid_gap": null,
            "grid_row": null,
            "grid_template_areas": null,
            "grid_template_columns": null,
            "grid_template_rows": null,
            "height": null,
            "justify_content": null,
            "justify_items": null,
            "left": null,
            "margin": null,
            "max_height": null,
            "max_width": null,
            "min_height": null,
            "min_width": null,
            "object_fit": null,
            "object_position": null,
            "order": null,
            "overflow": null,
            "overflow_x": null,
            "overflow_y": null,
            "padding": null,
            "right": null,
            "top": null,
            "visibility": null,
            "width": null
          }
        },
        "52f4196a30c2481c82c593e53494ca4d": {
          "model_module": "@jupyter-widgets/controls",
          "model_name": "DescriptionStyleModel",
          "model_module_version": "1.5.0",
          "state": {
            "_model_module": "@jupyter-widgets/controls",
            "_model_module_version": "1.5.0",
            "_model_name": "DescriptionStyleModel",
            "_view_count": null,
            "_view_module": "@jupyter-widgets/base",
            "_view_module_version": "1.2.0",
            "_view_name": "StyleView",
            "description_width": ""
          }
        },
        "9ae798b3e144446fb24dab164facb38e": {
          "model_module": "@jupyter-widgets/base",
          "model_name": "LayoutModel",
          "model_module_version": "1.2.0",
          "state": {
            "_model_module": "@jupyter-widgets/base",
            "_model_module_version": "1.2.0",
            "_model_name": "LayoutModel",
            "_view_count": null,
            "_view_module": "@jupyter-widgets/base",
            "_view_module_version": "1.2.0",
            "_view_name": "LayoutView",
            "align_content": null,
            "align_items": null,
            "align_self": null,
            "border": null,
            "bottom": null,
            "display": null,
            "flex": null,
            "flex_flow": null,
            "grid_area": null,
            "grid_auto_columns": null,
            "grid_auto_flow": null,
            "grid_auto_rows": null,
            "grid_column": null,
            "grid_gap": null,
            "grid_row": null,
            "grid_template_areas": null,
            "grid_template_columns": null,
            "grid_template_rows": null,
            "height": null,
            "justify_content": null,
            "justify_items": null,
            "left": null,
            "margin": null,
            "max_height": null,
            "max_width": null,
            "min_height": null,
            "min_width": null,
            "object_fit": null,
            "object_position": null,
            "order": null,
            "overflow": null,
            "overflow_x": null,
            "overflow_y": null,
            "padding": null,
            "right": null,
            "top": null,
            "visibility": null,
            "width": null
          }
        },
        "4f03d36733d34e9ba613511b68d3eea1": {
          "model_module": "@jupyter-widgets/controls",
          "model_name": "ProgressStyleModel",
          "model_module_version": "1.5.0",
          "state": {
            "_model_module": "@jupyter-widgets/controls",
            "_model_module_version": "1.5.0",
            "_model_name": "ProgressStyleModel",
            "_view_count": null,
            "_view_module": "@jupyter-widgets/base",
            "_view_module_version": "1.2.0",
            "_view_name": "StyleView",
            "bar_color": null,
            "description_width": ""
          }
        },
        "9668d2533be6438aaa6c6887119dba2e": {
          "model_module": "@jupyter-widgets/base",
          "model_name": "LayoutModel",
          "model_module_version": "1.2.0",
          "state": {
            "_model_module": "@jupyter-widgets/base",
            "_model_module_version": "1.2.0",
            "_model_name": "LayoutModel",
            "_view_count": null,
            "_view_module": "@jupyter-widgets/base",
            "_view_module_version": "1.2.0",
            "_view_name": "LayoutView",
            "align_content": null,
            "align_items": null,
            "align_self": null,
            "border": null,
            "bottom": null,
            "display": null,
            "flex": null,
            "flex_flow": null,
            "grid_area": null,
            "grid_auto_columns": null,
            "grid_auto_flow": null,
            "grid_auto_rows": null,
            "grid_column": null,
            "grid_gap": null,
            "grid_row": null,
            "grid_template_areas": null,
            "grid_template_columns": null,
            "grid_template_rows": null,
            "height": null,
            "justify_content": null,
            "justify_items": null,
            "left": null,
            "margin": null,
            "max_height": null,
            "max_width": null,
            "min_height": null,
            "min_width": null,
            "object_fit": null,
            "object_position": null,
            "order": null,
            "overflow": null,
            "overflow_x": null,
            "overflow_y": null,
            "padding": null,
            "right": null,
            "top": null,
            "visibility": null,
            "width": null
          }
        },
        "caf71256e563434da12ba537af80fab0": {
          "model_module": "@jupyter-widgets/controls",
          "model_name": "DescriptionStyleModel",
          "model_module_version": "1.5.0",
          "state": {
            "_model_module": "@jupyter-widgets/controls",
            "_model_module_version": "1.5.0",
            "_model_name": "DescriptionStyleModel",
            "_view_count": null,
            "_view_module": "@jupyter-widgets/base",
            "_view_module_version": "1.2.0",
            "_view_name": "StyleView",
            "description_width": ""
          }
        },
        "000af92b27f94dc486fe63fa98d24cc1": {
          "model_module": "@jupyter-widgets/controls",
          "model_name": "HBoxModel",
          "model_module_version": "1.5.0",
          "state": {
            "_dom_classes": [],
            "_model_module": "@jupyter-widgets/controls",
            "_model_module_version": "1.5.0",
            "_model_name": "HBoxModel",
            "_view_count": null,
            "_view_module": "@jupyter-widgets/controls",
            "_view_module_version": "1.5.0",
            "_view_name": "HBoxView",
            "box_style": "",
            "children": [
              "IPY_MODEL_6eb17e6f5cf34fb28e88c2f03a7d250c",
              "IPY_MODEL_6e26dd4b3ec8457c8427037287df375b",
              "IPY_MODEL_17cd1c10ef6540e3b06faeada6248924"
            ],
            "layout": "IPY_MODEL_727c0c424f2d4eafa4bdeb22c98e830b"
          }
        },
        "6eb17e6f5cf34fb28e88c2f03a7d250c": {
          "model_module": "@jupyter-widgets/controls",
          "model_name": "HTMLModel",
          "model_module_version": "1.5.0",
          "state": {
            "_dom_classes": [],
            "_model_module": "@jupyter-widgets/controls",
            "_model_module_version": "1.5.0",
            "_model_name": "HTMLModel",
            "_view_count": null,
            "_view_module": "@jupyter-widgets/controls",
            "_view_module_version": "1.5.0",
            "_view_name": "HTMLView",
            "description": "",
            "description_tooltip": null,
            "layout": "IPY_MODEL_0e6c6a90066441ab9b67cfa59b8f9512",
            "placeholder": "​",
            "style": "IPY_MODEL_62cc777e0e8546d894e0ec3d7bb59c57",
            "value": "pytorch_model.bin: 100%"
          }
        },
        "6e26dd4b3ec8457c8427037287df375b": {
          "model_module": "@jupyter-widgets/controls",
          "model_name": "FloatProgressModel",
          "model_module_version": "1.5.0",
          "state": {
            "_dom_classes": [],
            "_model_module": "@jupyter-widgets/controls",
            "_model_module_version": "1.5.0",
            "_model_name": "FloatProgressModel",
            "_view_count": null,
            "_view_module": "@jupyter-widgets/controls",
            "_view_module_version": "1.5.0",
            "_view_name": "ProgressView",
            "bar_style": "success",
            "description": "",
            "description_tooltip": null,
            "layout": "IPY_MODEL_bc09f6df709a41c8a26883989adde291",
            "max": 435778770,
            "min": 0,
            "orientation": "horizontal",
            "style": "IPY_MODEL_ca8b8df4c4364a34af42f56603cd11e1",
            "value": 435778770
          }
        },
        "17cd1c10ef6540e3b06faeada6248924": {
          "model_module": "@jupyter-widgets/controls",
          "model_name": "HTMLModel",
          "model_module_version": "1.5.0",
          "state": {
            "_dom_classes": [],
            "_model_module": "@jupyter-widgets/controls",
            "_model_module_version": "1.5.0",
            "_model_name": "HTMLModel",
            "_view_count": null,
            "_view_module": "@jupyter-widgets/controls",
            "_view_module_version": "1.5.0",
            "_view_name": "HTMLView",
            "description": "",
            "description_tooltip": null,
            "layout": "IPY_MODEL_467cb5a154aa4782b0d5af6e8795d244",
            "placeholder": "​",
            "style": "IPY_MODEL_02530eeb552f4267b4e3a5275a8eb1ce",
            "value": " 436M/436M [00:13&lt;00:00, 29.0MB/s]"
          }
        },
        "727c0c424f2d4eafa4bdeb22c98e830b": {
          "model_module": "@jupyter-widgets/base",
          "model_name": "LayoutModel",
          "model_module_version": "1.2.0",
          "state": {
            "_model_module": "@jupyter-widgets/base",
            "_model_module_version": "1.2.0",
            "_model_name": "LayoutModel",
            "_view_count": null,
            "_view_module": "@jupyter-widgets/base",
            "_view_module_version": "1.2.0",
            "_view_name": "LayoutView",
            "align_content": null,
            "align_items": null,
            "align_self": null,
            "border": null,
            "bottom": null,
            "display": null,
            "flex": null,
            "flex_flow": null,
            "grid_area": null,
            "grid_auto_columns": null,
            "grid_auto_flow": null,
            "grid_auto_rows": null,
            "grid_column": null,
            "grid_gap": null,
            "grid_row": null,
            "grid_template_areas": null,
            "grid_template_columns": null,
            "grid_template_rows": null,
            "height": null,
            "justify_content": null,
            "justify_items": null,
            "left": null,
            "margin": null,
            "max_height": null,
            "max_width": null,
            "min_height": null,
            "min_width": null,
            "object_fit": null,
            "object_position": null,
            "order": null,
            "overflow": null,
            "overflow_x": null,
            "overflow_y": null,
            "padding": null,
            "right": null,
            "top": null,
            "visibility": null,
            "width": null
          }
        },
        "0e6c6a90066441ab9b67cfa59b8f9512": {
          "model_module": "@jupyter-widgets/base",
          "model_name": "LayoutModel",
          "model_module_version": "1.2.0",
          "state": {
            "_model_module": "@jupyter-widgets/base",
            "_model_module_version": "1.2.0",
            "_model_name": "LayoutModel",
            "_view_count": null,
            "_view_module": "@jupyter-widgets/base",
            "_view_module_version": "1.2.0",
            "_view_name": "LayoutView",
            "align_content": null,
            "align_items": null,
            "align_self": null,
            "border": null,
            "bottom": null,
            "display": null,
            "flex": null,
            "flex_flow": null,
            "grid_area": null,
            "grid_auto_columns": null,
            "grid_auto_flow": null,
            "grid_auto_rows": null,
            "grid_column": null,
            "grid_gap": null,
            "grid_row": null,
            "grid_template_areas": null,
            "grid_template_columns": null,
            "grid_template_rows": null,
            "height": null,
            "justify_content": null,
            "justify_items": null,
            "left": null,
            "margin": null,
            "max_height": null,
            "max_width": null,
            "min_height": null,
            "min_width": null,
            "object_fit": null,
            "object_position": null,
            "order": null,
            "overflow": null,
            "overflow_x": null,
            "overflow_y": null,
            "padding": null,
            "right": null,
            "top": null,
            "visibility": null,
            "width": null
          }
        },
        "62cc777e0e8546d894e0ec3d7bb59c57": {
          "model_module": "@jupyter-widgets/controls",
          "model_name": "DescriptionStyleModel",
          "model_module_version": "1.5.0",
          "state": {
            "_model_module": "@jupyter-widgets/controls",
            "_model_module_version": "1.5.0",
            "_model_name": "DescriptionStyleModel",
            "_view_count": null,
            "_view_module": "@jupyter-widgets/base",
            "_view_module_version": "1.2.0",
            "_view_name": "StyleView",
            "description_width": ""
          }
        },
        "bc09f6df709a41c8a26883989adde291": {
          "model_module": "@jupyter-widgets/base",
          "model_name": "LayoutModel",
          "model_module_version": "1.2.0",
          "state": {
            "_model_module": "@jupyter-widgets/base",
            "_model_module_version": "1.2.0",
            "_model_name": "LayoutModel",
            "_view_count": null,
            "_view_module": "@jupyter-widgets/base",
            "_view_module_version": "1.2.0",
            "_view_name": "LayoutView",
            "align_content": null,
            "align_items": null,
            "align_self": null,
            "border": null,
            "bottom": null,
            "display": null,
            "flex": null,
            "flex_flow": null,
            "grid_area": null,
            "grid_auto_columns": null,
            "grid_auto_flow": null,
            "grid_auto_rows": null,
            "grid_column": null,
            "grid_gap": null,
            "grid_row": null,
            "grid_template_areas": null,
            "grid_template_columns": null,
            "grid_template_rows": null,
            "height": null,
            "justify_content": null,
            "justify_items": null,
            "left": null,
            "margin": null,
            "max_height": null,
            "max_width": null,
            "min_height": null,
            "min_width": null,
            "object_fit": null,
            "object_position": null,
            "order": null,
            "overflow": null,
            "overflow_x": null,
            "overflow_y": null,
            "padding": null,
            "right": null,
            "top": null,
            "visibility": null,
            "width": null
          }
        },
        "ca8b8df4c4364a34af42f56603cd11e1": {
          "model_module": "@jupyter-widgets/controls",
          "model_name": "ProgressStyleModel",
          "model_module_version": "1.5.0",
          "state": {
            "_model_module": "@jupyter-widgets/controls",
            "_model_module_version": "1.5.0",
            "_model_name": "ProgressStyleModel",
            "_view_count": null,
            "_view_module": "@jupyter-widgets/base",
            "_view_module_version": "1.2.0",
            "_view_name": "StyleView",
            "bar_color": null,
            "description_width": ""
          }
        },
        "467cb5a154aa4782b0d5af6e8795d244": {
          "model_module": "@jupyter-widgets/base",
          "model_name": "LayoutModel",
          "model_module_version": "1.2.0",
          "state": {
            "_model_module": "@jupyter-widgets/base",
            "_model_module_version": "1.2.0",
            "_model_name": "LayoutModel",
            "_view_count": null,
            "_view_module": "@jupyter-widgets/base",
            "_view_module_version": "1.2.0",
            "_view_name": "LayoutView",
            "align_content": null,
            "align_items": null,
            "align_self": null,
            "border": null,
            "bottom": null,
            "display": null,
            "flex": null,
            "flex_flow": null,
            "grid_area": null,
            "grid_auto_columns": null,
            "grid_auto_flow": null,
            "grid_auto_rows": null,
            "grid_column": null,
            "grid_gap": null,
            "grid_row": null,
            "grid_template_areas": null,
            "grid_template_columns": null,
            "grid_template_rows": null,
            "height": null,
            "justify_content": null,
            "justify_items": null,
            "left": null,
            "margin": null,
            "max_height": null,
            "max_width": null,
            "min_height": null,
            "min_width": null,
            "object_fit": null,
            "object_position": null,
            "order": null,
            "overflow": null,
            "overflow_x": null,
            "overflow_y": null,
            "padding": null,
            "right": null,
            "top": null,
            "visibility": null,
            "width": null
          }
        },
        "02530eeb552f4267b4e3a5275a8eb1ce": {
          "model_module": "@jupyter-widgets/controls",
          "model_name": "DescriptionStyleModel",
          "model_module_version": "1.5.0",
          "state": {
            "_model_module": "@jupyter-widgets/controls",
            "_model_module_version": "1.5.0",
            "_model_name": "DescriptionStyleModel",
            "_view_count": null,
            "_view_module": "@jupyter-widgets/base",
            "_view_module_version": "1.2.0",
            "_view_name": "StyleView",
            "description_width": ""
          }
        }
      }
    }
  },
  "cells": [
    {
      "cell_type": "markdown",
      "metadata": {
        "id": "view-in-github",
        "colab_type": "text"
      },
      "source": [
        "<a href=\"https://colab.research.google.com/github/AshimR/web3j-workshop/blob/master/SVM_NN_text_embed.ipynb\" target=\"_parent\"><img src=\"https://colab.research.google.com/assets/colab-badge.svg\" alt=\"Open In Colab\"/></a>"
      ]
    },
    {
      "cell_type": "code",
      "source": [
        "!pip install pandas --quiet\n",
        "!pip install transformers --quiet\n",
        "!pip install optuna --quiet\n",
        "!pip install shap --quiet"
      ],
      "metadata": {
        "id": "QihxB57UXZf_",
        "colab": {
          "base_uri": "https://localhost:8080/"
        },
        "outputId": "8323d63f-a0fe-4b29-9a97-79492d7d575c"
      },
      "execution_count": 1,
      "outputs": [
        {
          "output_type": "stream",
          "name": "stdout",
          "text": [
            "\u001b[?25l     \u001b[90m━━━━━━━━━━━━━━━━━━━━━━━━━━━━━━━━━━━━━━━━\u001b[0m \u001b[32m0.0/380.1 kB\u001b[0m \u001b[31m?\u001b[0m eta \u001b[36m-:--:--\u001b[0m\r\u001b[2K     \u001b[91m━━━━━━━━━━━━━━━━━━━━━━━\u001b[0m\u001b[91m╸\u001b[0m\u001b[90m━━━━━━━━━━━━━━━━\u001b[0m \u001b[32m225.3/380.1 kB\u001b[0m \u001b[31m6.5 MB/s\u001b[0m eta \u001b[36m0:00:01\u001b[0m\r\u001b[2K     \u001b[90m━━━━━━━━━━━━━━━━━━━━━━━━━━━━━━━━━━━━━━━━\u001b[0m \u001b[32m380.1/380.1 kB\u001b[0m \u001b[31m7.2 MB/s\u001b[0m eta \u001b[36m0:00:00\u001b[0m\n",
            "\u001b[2K     \u001b[90m━━━━━━━━━━━━━━━━━━━━━━━━━━━━━━━━━━━━━━━━\u001b[0m \u001b[32m233.4/233.4 kB\u001b[0m \u001b[31m15.7 MB/s\u001b[0m eta \u001b[36m0:00:00\u001b[0m\n",
            "\u001b[2K     \u001b[90m━━━━━━━━━━━━━━━━━━━━━━━━━━━━━━━━━━━━━━━━\u001b[0m \u001b[32m78.8/78.8 kB\u001b[0m \u001b[31m10.9 MB/s\u001b[0m eta \u001b[36m0:00:00\u001b[0m\n",
            "\u001b[2K     \u001b[90m━━━━━━━━━━━━━━━━━━━━━━━━━━━━━━━━━━━━━━━━\u001b[0m \u001b[32m538.2/538.2 kB\u001b[0m \u001b[31m11.1 MB/s\u001b[0m eta \u001b[36m0:00:00\u001b[0m\n",
            "\u001b[?25h"
          ]
        }
      ]
    },
    {
      "cell_type": "code",
      "source": [
        "import pandas as pd\n",
        "from transformers import AutoTokenizer, AutoModel\n",
        "import torch\n",
        "from sklearn.preprocessing import LabelEncoder, StandardScaler\n",
        "import numpy as np\n",
        "import torch.nn as nn\n",
        "import torch.optim as optim\n",
        "from torch.utils.data import DataLoader, TensorDataset\n",
        "import optuna # for searching best hyperparameter\n",
        "from torch.optim.lr_scheduler import ExponentialLR\n",
        "from sklearn.model_selection import train_test_split\n",
        "from sklearn.cluster import KMeans\n",
        "from transformers import GPT2LMHeadModel, GPT2Tokenizer\n",
        "import shap\n",
        "from google.colab import files\n",
        "from sklearn.svm import SVC\n",
        "from sklearn.metrics import accuracy_score\n",
        "from sklearn.model_selection import cross_val_score"
      ],
      "metadata": {
        "id": "w3Vd1KJvXdE9"
      },
      "execution_count": 2,
      "outputs": []
    },
    {
      "cell_type": "code",
      "source": [
        "file = files.upload()"
      ],
      "metadata": {
        "colab": {
          "base_uri": "https://localhost:8080/",
          "height": 73
        },
        "id": "Xffd0oYvXuSF",
        "outputId": "462ab6ed-7bd2-4799-d75e-2db64f72d364"
      },
      "execution_count": null,
      "outputs": [
        {
          "output_type": "display_data",
          "data": {
            "text/plain": [
              "<IPython.core.display.HTML object>"
            ],
            "text/html": [
              "\n",
              "     <input type=\"file\" id=\"files-f893d8b0-b7bb-422d-9517-d9fb401e6fa0\" name=\"files[]\" multiple disabled\n",
              "        style=\"border:none\" />\n",
              "     <output id=\"result-f893d8b0-b7bb-422d-9517-d9fb401e6fa0\">\n",
              "      Upload widget is only available when the cell has been executed in the\n",
              "      current browser session. Please rerun this cell to enable.\n",
              "      </output>\n",
              "      <script>// Copyright 2017 Google LLC\n",
              "//\n",
              "// Licensed under the Apache License, Version 2.0 (the \"License\");\n",
              "// you may not use this file except in compliance with the License.\n",
              "// You may obtain a copy of the License at\n",
              "//\n",
              "//      http://www.apache.org/licenses/LICENSE-2.0\n",
              "//\n",
              "// Unless required by applicable law or agreed to in writing, software\n",
              "// distributed under the License is distributed on an \"AS IS\" BASIS,\n",
              "// WITHOUT WARRANTIES OR CONDITIONS OF ANY KIND, either express or implied.\n",
              "// See the License for the specific language governing permissions and\n",
              "// limitations under the License.\n",
              "\n",
              "/**\n",
              " * @fileoverview Helpers for google.colab Python module.\n",
              " */\n",
              "(function(scope) {\n",
              "function span(text, styleAttributes = {}) {\n",
              "  const element = document.createElement('span');\n",
              "  element.textContent = text;\n",
              "  for (const key of Object.keys(styleAttributes)) {\n",
              "    element.style[key] = styleAttributes[key];\n",
              "  }\n",
              "  return element;\n",
              "}\n",
              "\n",
              "// Max number of bytes which will be uploaded at a time.\n",
              "const MAX_PAYLOAD_SIZE = 100 * 1024;\n",
              "\n",
              "function _uploadFiles(inputId, outputId) {\n",
              "  const steps = uploadFilesStep(inputId, outputId);\n",
              "  const outputElement = document.getElementById(outputId);\n",
              "  // Cache steps on the outputElement to make it available for the next call\n",
              "  // to uploadFilesContinue from Python.\n",
              "  outputElement.steps = steps;\n",
              "\n",
              "  return _uploadFilesContinue(outputId);\n",
              "}\n",
              "\n",
              "// This is roughly an async generator (not supported in the browser yet),\n",
              "// where there are multiple asynchronous steps and the Python side is going\n",
              "// to poll for completion of each step.\n",
              "// This uses a Promise to block the python side on completion of each step,\n",
              "// then passes the result of the previous step as the input to the next step.\n",
              "function _uploadFilesContinue(outputId) {\n",
              "  const outputElement = document.getElementById(outputId);\n",
              "  const steps = outputElement.steps;\n",
              "\n",
              "  const next = steps.next(outputElement.lastPromiseValue);\n",
              "  return Promise.resolve(next.value.promise).then((value) => {\n",
              "    // Cache the last promise value to make it available to the next\n",
              "    // step of the generator.\n",
              "    outputElement.lastPromiseValue = value;\n",
              "    return next.value.response;\n",
              "  });\n",
              "}\n",
              "\n",
              "/**\n",
              " * Generator function which is called between each async step of the upload\n",
              " * process.\n",
              " * @param {string} inputId Element ID of the input file picker element.\n",
              " * @param {string} outputId Element ID of the output display.\n",
              " * @return {!Iterable<!Object>} Iterable of next steps.\n",
              " */\n",
              "function* uploadFilesStep(inputId, outputId) {\n",
              "  const inputElement = document.getElementById(inputId);\n",
              "  inputElement.disabled = false;\n",
              "\n",
              "  const outputElement = document.getElementById(outputId);\n",
              "  outputElement.innerHTML = '';\n",
              "\n",
              "  const pickedPromise = new Promise((resolve) => {\n",
              "    inputElement.addEventListener('change', (e) => {\n",
              "      resolve(e.target.files);\n",
              "    });\n",
              "  });\n",
              "\n",
              "  const cancel = document.createElement('button');\n",
              "  inputElement.parentElement.appendChild(cancel);\n",
              "  cancel.textContent = 'Cancel upload';\n",
              "  const cancelPromise = new Promise((resolve) => {\n",
              "    cancel.onclick = () => {\n",
              "      resolve(null);\n",
              "    };\n",
              "  });\n",
              "\n",
              "  // Wait for the user to pick the files.\n",
              "  const files = yield {\n",
              "    promise: Promise.race([pickedPromise, cancelPromise]),\n",
              "    response: {\n",
              "      action: 'starting',\n",
              "    }\n",
              "  };\n",
              "\n",
              "  cancel.remove();\n",
              "\n",
              "  // Disable the input element since further picks are not allowed.\n",
              "  inputElement.disabled = true;\n",
              "\n",
              "  if (!files) {\n",
              "    return {\n",
              "      response: {\n",
              "        action: 'complete',\n",
              "      }\n",
              "    };\n",
              "  }\n",
              "\n",
              "  for (const file of files) {\n",
              "    const li = document.createElement('li');\n",
              "    li.append(span(file.name, {fontWeight: 'bold'}));\n",
              "    li.append(span(\n",
              "        `(${file.type || 'n/a'}) - ${file.size} bytes, ` +\n",
              "        `last modified: ${\n",
              "            file.lastModifiedDate ? file.lastModifiedDate.toLocaleDateString() :\n",
              "                                    'n/a'} - `));\n",
              "    const percent = span('0% done');\n",
              "    li.appendChild(percent);\n",
              "\n",
              "    outputElement.appendChild(li);\n",
              "\n",
              "    const fileDataPromise = new Promise((resolve) => {\n",
              "      const reader = new FileReader();\n",
              "      reader.onload = (e) => {\n",
              "        resolve(e.target.result);\n",
              "      };\n",
              "      reader.readAsArrayBuffer(file);\n",
              "    });\n",
              "    // Wait for the data to be ready.\n",
              "    let fileData = yield {\n",
              "      promise: fileDataPromise,\n",
              "      response: {\n",
              "        action: 'continue',\n",
              "      }\n",
              "    };\n",
              "\n",
              "    // Use a chunked sending to avoid message size limits. See b/62115660.\n",
              "    let position = 0;\n",
              "    do {\n",
              "      const length = Math.min(fileData.byteLength - position, MAX_PAYLOAD_SIZE);\n",
              "      const chunk = new Uint8Array(fileData, position, length);\n",
              "      position += length;\n",
              "\n",
              "      const base64 = btoa(String.fromCharCode.apply(null, chunk));\n",
              "      yield {\n",
              "        response: {\n",
              "          action: 'append',\n",
              "          file: file.name,\n",
              "          data: base64,\n",
              "        },\n",
              "      };\n",
              "\n",
              "      let percentDone = fileData.byteLength === 0 ?\n",
              "          100 :\n",
              "          Math.round((position / fileData.byteLength) * 100);\n",
              "      percent.textContent = `${percentDone}% done`;\n",
              "\n",
              "    } while (position < fileData.byteLength);\n",
              "  }\n",
              "\n",
              "  // All done.\n",
              "  yield {\n",
              "    response: {\n",
              "      action: 'complete',\n",
              "    }\n",
              "  };\n",
              "}\n",
              "\n",
              "scope.google = scope.google || {};\n",
              "scope.google.colab = scope.google.colab || {};\n",
              "scope.google.colab._files = {\n",
              "  _uploadFiles,\n",
              "  _uploadFilesContinue,\n",
              "};\n",
              "})(self);\n",
              "</script> "
            ]
          },
          "metadata": {}
        },
        {
          "output_type": "stream",
          "name": "stdout",
          "text": [
            "Saving sym_w_embeddings_corrected.csv to sym_w_embeddings_corrected.csv\n"
          ]
        }
      ]
    },
    {
      "cell_type": "markdown",
      "source": [
        "this part is used for feature scaling and wont be needed in the main model"
      ],
      "metadata": {
        "id": "Tpa6uT-e-mms"
      }
    },
    {
      "cell_type": "code",
      "source": [],
      "metadata": {
        "id": "hVQ_CP3mz0i7"
      },
      "execution_count": null,
      "outputs": []
    },
    {
      "cell_type": "code",
      "source": [
        "# Load the dataset to preprocess it for text embedding and semantic search usage\n",
        "data = pd.read_csv('/content/symbipredict_2022.csv')\n",
        "\n",
        "# Creating a text description for each row in the dataset by concatenating symptom names if present (1)\n",
        "def create_symptom_description(row):\n",
        "    symptoms = [col.replace('_', ' ') for col in row.index if row[col] == 1]\n",
        "    return ', '.join(symptoms)\n",
        "\n",
        "# Apply the function to each row in the DataFrame\n",
        "data['symptom_description'] = data.apply(create_symptom_description, axis=1)\n",
        "\n",
        "# Check the modified DataFrame and export it to a CSV file for verification\n",
        "data.to_csv('/content/processed_symbipredict_2022.csv', index=False)\n",
        "data.head(), data['symptom_description'].head()\n"
      ],
      "metadata": {
        "colab": {
          "base_uri": "https://localhost:8080/"
        },
        "id": "QmuMLEUOXJvO",
        "outputId": "4ddeaa9e-1942-4270-e07f-113e8f0779aa"
      },
      "execution_count": null,
      "outputs": [
        {
          "output_type": "execute_result",
          "data": {
            "text/plain": [
              "(   itching  skin_rash  nodal_skin_eruptions  continuous_sneezing  shivering  \\\n",
              " 0        1          1                     1                    0          0   \n",
              " 1        0          1                     1                    0          0   \n",
              " 2        1          0                     1                    0          0   \n",
              " 3        1          1                     0                    0          0   \n",
              " 4        1          1                     1                    0          0   \n",
              " \n",
              "    chills  joint_pain  stomach_pain  acidity  ulcers_on_tongue  ...  scurring  \\\n",
              " 0       0           0             0        0                 0  ...         0   \n",
              " 1       0           0             0        0                 0  ...         0   \n",
              " 2       0           0             0        0                 0  ...         0   \n",
              " 3       0           0             0        0                 0  ...         0   \n",
              " 4       0           0             0        0                 0  ...         0   \n",
              " \n",
              "    skin_peeling  silver_like_dusting  small_dents_in_nails  \\\n",
              " 0             0                    0                     0   \n",
              " 1             0                    0                     0   \n",
              " 2             0                    0                     0   \n",
              " 3             0                    0                     0   \n",
              " 4             0                    0                     0   \n",
              " \n",
              "    inflammatory_nails  blister  red_sore_around_nose  yellow_crust_ooze  \\\n",
              " 0                   0        0                     0                  0   \n",
              " 1                   0        0                     0                  0   \n",
              " 2                   0        0                     0                  0   \n",
              " 3                   0        0                     0                  0   \n",
              " 4                   0        0                     0                  0   \n",
              " \n",
              "           prognosis                                symptom_description  \n",
              " 0  Fungal Infection  itching, skin rash, nodal skin eruptions, disc...  \n",
              " 1  Fungal Infection  skin rash, nodal skin eruptions, dischromic  p...  \n",
              " 2  Fungal Infection  itching, nodal skin eruptions, dischromic  pat...  \n",
              " 3  Fungal Infection            itching, skin rash, dischromic  patches  \n",
              " 4  Fungal Infection           itching, skin rash, nodal skin eruptions  \n",
              " \n",
              " [5 rows x 134 columns],\n",
              " 0    itching, skin rash, nodal skin eruptions, disc...\n",
              " 1    skin rash, nodal skin eruptions, dischromic  p...\n",
              " 2    itching, nodal skin eruptions, dischromic  pat...\n",
              " 3              itching, skin rash, dischromic  patches\n",
              " 4             itching, skin rash, nodal skin eruptions\n",
              " Name: symptom_description, dtype: object)"
            ]
          },
          "metadata": {},
          "execution_count": 28
        }
      ]
    },
    {
      "cell_type": "code",
      "source": [
        "# data_frame.to_csv('/content/embd_symbipredict_2022.csv')"
      ],
      "metadata": {
        "id": "dBgAbZDMn6Cg"
      },
      "execution_count": null,
      "outputs": []
    },
    {
      "cell_type": "code",
      "source": [
        "import pandas as pd\n",
        "import matplotlib.pyplot as plt\n",
        "import seaborn as sns\n",
        "\n",
        "# Load the dataset\n",
        "def load_data(filepath):\n",
        "    return pd.read_csv(filepath)\n",
        "\n",
        "# Plot the distribution of each disease (prognosis)\n",
        "def plot_disease_distribution(df):\n",
        "    plt.figure(figsize=(12, 8))\n",
        "    disease_counts = df['prognosis'].value_counts()\n",
        "    sns.barplot(y=disease_counts.index, x=disease_counts.values, palette='viridis')\n",
        "    plt.title('Disease Distribution in Dataset')\n",
        "    plt.xlabel('Frequency')\n",
        "    plt.ylabel('Diseases')\n",
        "    plt.show()\n",
        "\n",
        "# Plot the prevalence of symptoms in the dataset\n",
        "def plot_symptom_prevalence(df):\n",
        "    symptoms = df.columns[:-1]  # exclude the last column which is prognosis\n",
        "    symptom_counts = df[symptoms].sum().sort_values(ascending=False)\n",
        "    plt.figure(figsize=(12, 10))\n",
        "    sns.barplot(y=symptom_counts.index[:30], x=symptom_counts.values[:30], palette='viridis')  # Top 30 symptoms\n",
        "    plt.title('Top 30 Common Symptoms in Dataset')\n",
        "    plt.xlabel('Frequency of Symptoms')\n",
        "    plt.ylabel('Symptoms')\n",
        "    plt.show()\n",
        "\n",
        "# Plot a heatmap of symptom correlations\n",
        "def plot_symptom_correlation(df):\n",
        "    symptoms = df.columns[:-1]  # exclude the last column which is prognosis\n",
        "    correlation_matrix = df[symptoms].corr()\n",
        "    plt.figure(figsize=(15, 12))\n",
        "    sns.heatmap(correlation_matrix, cmap=\"YlGnBu\", annot=False)\n",
        "    plt.title('Correlation Matrix of Symptoms')\n",
        "    plt.show()\n",
        "\n",
        "# Main function to run the EDA\n",
        "def run_eda(filepath):\n",
        "    df = load_data(filepath)\n",
        "    plot_disease_distribution(df)\n",
        "    plot_symptom_prevalence(df)\n",
        "    plot_symptom_correlation(df)"
      ],
      "metadata": {
        "id": "zbv6NBmk0A36"
      },
      "execution_count": null,
      "outputs": []
    },
    {
      "cell_type": "code",
      "source": [
        "data_frame = data[['symptom_description','prognosis']]"
      ],
      "metadata": {
        "id": "nCPk1a32aoci"
      },
      "execution_count": null,
      "outputs": []
    },
    {
      "cell_type": "code",
      "source": [
        "# Compute descriptive statistics for the 'prognosis' column to see the distribution of diseases\n",
        "disease_distribution = data_frame['prognosis'].value_counts()\n",
        "\n",
        "# Display the disease distribution\n",
        "disease_distribution"
      ],
      "metadata": {
        "id": "HYPLUeJg1SyM"
      },
      "execution_count": null,
      "outputs": []
    },
    {
      "cell_type": "markdown",
      "source": [
        "This part was done to create a dataset with embeddings"
      ],
      "metadata": {
        "id": "WGlEM2Fl_EUc"
      }
    },
    {
      "cell_type": "code",
      "source": [
        "# Initialize tokenizer and model from Hugging Face's Transformers\n",
        "emb_tokenizer = AutoTokenizer.from_pretrained(\"emilyalsentzer/Bio_ClinicalBERT\")\n",
        "emb_model = AutoModel.from_pretrained(\"emilyalsentzer/Bio_ClinicalBERT\")\n",
        "\n",
        "# Function to generate embeddings for a given text\n",
        "def generate_embeddings(text):\n",
        "    encoded_input = emb_tokenizer(text, return_tensors='pt', padding=True, truncation=True, max_length=512)\n",
        "    with torch.no_grad():\n",
        "        output = emb_model(**encoded_input)\n",
        "    embeddings = output.last_hidden_state.mean(dim=1).squeeze().numpy()\n",
        "    return embeddings\n",
        "\n",
        "# Apply the function to generate embeddings for the 'symptom_description' column\n",
        "data_frame['embeddings'] = data_frame['symptom_description'].apply(generate_embeddings)\n",
        "\n",
        "# Optionally save the new dataframe with embeddings to a new CSV for further use\n",
        "data_frame.to_csv('sym_w_embeddings2.csv', index=False)\n",
        "\n",
        "# Print some of the generated embeddings to confirm they are correct\n",
        "print(data_frame[['symptom_description', 'embeddings']].head())\n"
      ],
      "metadata": {
        "colab": {
          "base_uri": "https://localhost:8080/",
          "height": 567,
          "referenced_widgets": [
            "36ad7261415f4f2dacd1e4c7061dff0a",
            "660763b4fb5a44538e13a48ac56c5e1c",
            "90a0f6dd09ee4b7d96ae2f1cc6e69928",
            "0bbe29e058f141eaa35ebbb0c7729766",
            "a136e94ccccc493c8d7c7c2bd0622048",
            "04f90a77b0d54231b591770b7542461f",
            "3e989c85f43b4b96ac39e31ddd0a203e",
            "51ffabeb546446f48c7c27df0bf30194",
            "5ac28edf948449c8a3270c44491f3e83",
            "64e3d44449b745fb849dc5248175b223",
            "37facb69c42c4dd8ba89d170d02a4224",
            "83656126986a4d91bd57a17bf9c72127",
            "966dcad9e28f4291b021b963e82c4c54",
            "3f5d354038d94a7c8814e2bfd8c214ad",
            "9a1b9770781e4340a433b0476b66ca60",
            "79206eb453a44c15aa240937a59aaecf",
            "b646344e2f0e4664801f1ffea940b59e",
            "52f4196a30c2481c82c593e53494ca4d",
            "9ae798b3e144446fb24dab164facb38e",
            "4f03d36733d34e9ba613511b68d3eea1",
            "9668d2533be6438aaa6c6887119dba2e",
            "caf71256e563434da12ba537af80fab0",
            "000af92b27f94dc486fe63fa98d24cc1",
            "6eb17e6f5cf34fb28e88c2f03a7d250c",
            "6e26dd4b3ec8457c8427037287df375b",
            "17cd1c10ef6540e3b06faeada6248924",
            "727c0c424f2d4eafa4bdeb22c98e830b",
            "0e6c6a90066441ab9b67cfa59b8f9512",
            "62cc777e0e8546d894e0ec3d7bb59c57",
            "bc09f6df709a41c8a26883989adde291",
            "ca8b8df4c4364a34af42f56603cd11e1",
            "467cb5a154aa4782b0d5af6e8795d244",
            "02530eeb552f4267b4e3a5275a8eb1ce"
          ]
        },
        "id": "H6envhrRfZS2",
        "outputId": "b5aa8e1a-0e16-40eb-c7d7-967b956f0aac"
      },
      "execution_count": null,
      "outputs": [
        {
          "output_type": "stream",
          "name": "stderr",
          "text": [
            "/usr/local/lib/python3.10/dist-packages/huggingface_hub/utils/_token.py:88: UserWarning: \n",
            "The secret `HF_TOKEN` does not exist in your Colab secrets.\n",
            "To authenticate with the Hugging Face Hub, create a token in your settings tab (https://huggingface.co/settings/tokens), set it as secret in your Google Colab and restart your session.\n",
            "You will be able to reuse this secret in all of your notebooks.\n",
            "Please note that authentication is recommended but still optional to access public models or datasets.\n",
            "  warnings.warn(\n"
          ]
        },
        {
          "output_type": "display_data",
          "data": {
            "text/plain": [
              "config.json:   0%|          | 0.00/385 [00:00<?, ?B/s]"
            ],
            "application/vnd.jupyter.widget-view+json": {
              "version_major": 2,
              "version_minor": 0,
              "model_id": "36ad7261415f4f2dacd1e4c7061dff0a"
            }
          },
          "metadata": {}
        },
        {
          "output_type": "display_data",
          "data": {
            "text/plain": [
              "vocab.txt:   0%|          | 0.00/213k [00:00<?, ?B/s]"
            ],
            "application/vnd.jupyter.widget-view+json": {
              "version_major": 2,
              "version_minor": 0,
              "model_id": "83656126986a4d91bd57a17bf9c72127"
            }
          },
          "metadata": {}
        },
        {
          "output_type": "display_data",
          "data": {
            "text/plain": [
              "pytorch_model.bin:   0%|          | 0.00/436M [00:00<?, ?B/s]"
            ],
            "application/vnd.jupyter.widget-view+json": {
              "version_major": 2,
              "version_minor": 0,
              "model_id": "000af92b27f94dc486fe63fa98d24cc1"
            }
          },
          "metadata": {}
        },
        {
          "output_type": "stream",
          "name": "stderr",
          "text": [
            "<ipython-input-30-ee7ec519fda6>:14: SettingWithCopyWarning: \n",
            "A value is trying to be set on a copy of a slice from a DataFrame.\n",
            "Try using .loc[row_indexer,col_indexer] = value instead\n",
            "\n",
            "See the caveats in the documentation: https://pandas.pydata.org/pandas-docs/stable/user_guide/indexing.html#returning-a-view-versus-a-copy\n",
            "  data_frame['embeddings'] = data_frame['symptom_description'].apply(generate_embeddings)\n"
          ]
        },
        {
          "output_type": "stream",
          "name": "stdout",
          "text": [
            "                                 symptom_description  \\\n",
            "0  itching, skin rash, nodal skin eruptions, disc...   \n",
            "1  skin rash, nodal skin eruptions, dischromic  p...   \n",
            "2  itching, nodal skin eruptions, dischromic  pat...   \n",
            "3            itching, skin rash, dischromic  patches   \n",
            "4           itching, skin rash, nodal skin eruptions   \n",
            "\n",
            "                                          embeddings  \n",
            "0  [0.300389, 0.010864246, -0.40300804, 0.2143276...  \n",
            "1  [0.39868072, -0.112185195, -0.33901146, 0.1459...  \n",
            "2  [0.31049445, 0.011516023, -0.41578156, 0.19552...  \n",
            "3  [0.35473484, -0.046607442, -0.38146266, 0.2751...  \n",
            "4  [0.37643713, 0.08506728, -0.40587324, 0.328377...  \n"
          ]
        }
      ]
    },
    {
      "cell_type": "code",
      "source": [
        "# Assuming embeddings are generated as numpy arrays (from your previous code snippet)\n",
        "data_frame['embeddings'] = data_frame['symptom_description'].apply(lambda x: ','.join(map(str, generate_embeddings(x))))\n",
        "\n",
        "# Now save to CSV\n",
        "data_frame.to_csv('sym_w_embeddings_corrected.csv', index=False)"
      ],
      "metadata": {
        "colab": {
          "base_uri": "https://localhost:8080/"
        },
        "id": "LYR3ojvSialr",
        "outputId": "6bac147d-366a-4078-9823-328da17b0f0e"
      },
      "execution_count": null,
      "outputs": [
        {
          "output_type": "stream",
          "name": "stderr",
          "text": [
            "<ipython-input-45-964644922b94>:2: SettingWithCopyWarning: \n",
            "A value is trying to be set on a copy of a slice from a DataFrame.\n",
            "Try using .loc[row_indexer,col_indexer] = value instead\n",
            "\n",
            "See the caveats in the documentation: https://pandas.pydata.org/pandas-docs/stable/user_guide/indexing.html#returning-a-view-versus-a-copy\n",
            "  data_frame['embeddings'] = data_frame['symptom_description'].apply(lambda x: ','.join(map(str, generate_embeddings(x))))\n"
          ]
        }
      ]
    },
    {
      "cell_type": "code",
      "source": [
        "def convert_to_ndarray(string):\n",
        "    try:\n",
        "        return np.array(list(map(float, string.split(','))))\n",
        "    except ValueError:\n",
        "        return np.array([])  # Return an empty array if conversion fails\n",
        "\n",
        "# Load your dataframe\n",
        "data_frame = pd.read_csv('/content/sym_w_embeddings_corrected.csv')\n",
        "data_frame['embeddings'] = data_frame['embeddings'].apply(convert_to_ndarray)\n",
        "\n",
        "# Verify the types again\n",
        "print(data_frame['embeddings'].apply(type).unique())  # Should show <class 'numpy.ndarray'>\n"
      ],
      "metadata": {
        "colab": {
          "base_uri": "https://localhost:8080/"
        },
        "id": "vbIWWg3YlnTK",
        "outputId": "a6c6d97c-b9c6-480c-cd6e-87c769af5428"
      },
      "execution_count": null,
      "outputs": [
        {
          "output_type": "stream",
          "name": "stdout",
          "text": [
            "[<class 'numpy.ndarray'>]\n"
          ]
        }
      ]
    },
    {
      "cell_type": "code",
      "source": [
        "label_encoder = LabelEncoder()\n",
        "scaler = StandardScaler()"
      ],
      "metadata": {
        "id": "MWa-yEA3tc9u"
      },
      "execution_count": null,
      "outputs": []
    },
    {
      "cell_type": "code",
      "source": [
        "# Assuming 'embeddings' column contains the embeddings and is in an appropriate format\n",
        "X = list(data_frame['embeddings'])\n",
        "y = data_frame['prognosis']\n",
        "X_scaled = scaler.fit_transform(X)\n",
        "y_encoded = label_encoder.fit_transform(y)\n",
        "X_train, X_test, y_train, y_test = train_test_split(X_scaled, y_encoded, test_size=0.2, random_state=42)\n"
      ],
      "metadata": {
        "id": "tWre2E8gn-8g"
      },
      "execution_count": null,
      "outputs": []
    },
    {
      "cell_type": "code",
      "source": [
        "# Convert to tensors\n",
        "X_train_tensor = torch.FloatTensor(X_train)\n",
        "y_train_tensor = torch.LongTensor(y_train)\n",
        "X_test_tensor = torch.FloatTensor(X_test)\n",
        "y_test_tensor = torch.LongTensor(y_test)\n",
        "\n",
        "# Create training and testing datasets\n",
        "train_dataset = TensorDataset(X_train_tensor, y_train_tensor)\n",
        "test_dataset = TensorDataset(X_test_tensor, y_test_tensor)\n",
        "\n",
        "# Update dataloaders\n",
        "train_loader = DataLoader(train_dataset, batch_size=12, shuffle=True)\n",
        "test_loader = DataLoader(test_dataset, batch_size=12, shuffle=False)"
      ],
      "metadata": {
        "id": "6fhXSPzfQGVC"
      },
      "execution_count": null,
      "outputs": []
    },
    {
      "cell_type": "markdown",
      "source": [
        "Simple feedforward neural network (Multilayer Perceptron or MLP)"
      ],
      "metadata": {
        "id": "LBcdOOtBx5_z"
      }
    },
    {
      "cell_type": "code",
      "source": [
        "from sklearn import svm\n",
        "from sklearn.metrics import classification_report, accuracy_score\n",
        "from sklearn.model_selection import train_test_split, StratifiedKFold\n",
        "from sklearn.preprocessing import StandardScaler, LabelEncoder\n",
        "from sklearn.metrics import classification_report, accuracy_score, f1_score, precision_score, recall_score\n",
        "# Setup the SVM model\n",
        "svm_model = svm.SVC(kernel='linear', C = 0.1785379499667778)"
      ],
      "metadata": {
        "id": "T8ZImr-G04tY"
      },
      "execution_count": null,
      "outputs": []
    },
    {
      "cell_type": "code",
      "source": [
        "# Define the neural network architecture\n",
        "class DiseasePredictor(nn.Module):\n",
        "    def __init__(self):\n",
        "        \"\"\"\n",
        "        The main model to predict diseases\n",
        "        \"\"\"\n",
        "        super(DiseasePredictor, self).__init__()\n",
        "        self.fc1 = nn.Linear(in_features=768, out_features=462)\n",
        "        self.fc2 = nn.Linear(462, 462)  # Second hidden layer\n",
        "        self.fc3 = nn.Linear(462, 462)  # Third hidden layer\n",
        "        self.output = nn.Linear(462, 41)\n",
        "        self.relu = nn.ReLU()\n",
        "        self.dropout = nn.Dropout(0.0015) # Dropout layer very small\n",
        "        self.log_softmax = nn.LogSoftmax(dim=1)\n",
        "\n",
        "    def forward(self, x):\n",
        "        x = self.relu(self.fc1(x))\n",
        "        x = self.dropout(x)\n",
        "        x = self.relu(self.fc2(x))\n",
        "        x = self.dropout(x)\n",
        "        x = self.relu(self.fc3(x))\n",
        "        x = self.dropout(x)\n",
        "        x = self.output(x)\n",
        "        x = self.log_softmax(x)\n",
        "        return x"
      ],
      "metadata": {
        "id": "_qbZP9jiRUGG"
      },
      "execution_count": null,
      "outputs": []
    },
    {
      "cell_type": "code",
      "source": [
        "class LabelSmoothingCrossEntropy(nn.Module):\n",
        "    def __init__(self, smoothing=0.1):\n",
        "        super(LabelSmoothingCrossEntropy, self).__init__()\n",
        "        self.smoothing = smoothing\n",
        "\n",
        "    def forward(self, input, target):\n",
        "        log_prob = torch.nn.functional.log_softmax(input, dim=-1)\n",
        "        weight = input.new_ones(input.size()) * self.smoothing / (input.size(-1) - 1.)\n",
        "        weight.scatter_(-1, target.unsqueeze(-1), (1. - self.smoothing))\n",
        "        loss = (-weight * log_prob).sum(dim=-1).mean()\n",
        "        return loss"
      ],
      "metadata": {
        "id": "ZYRUKs29RXH2"
      },
      "execution_count": null,
      "outputs": []
    },
    {
      "cell_type": "code",
      "source": [
        "# Initialize the network, loss function, and optimizer\n",
        "predict_model = DiseasePredictor()\n",
        "criterion = LabelSmoothingCrossEntropy(smoothing = 0.1) # to prevent overfitting\n",
        "optimizer = optim.Adam(predict_model.parameters(), lr = 0.0006312703277951093) # tuned\n",
        "scheduler = ExponentialLR(optimizer, gamma = 0.9053013456459507) # to update lerning rate"
      ],
      "metadata": {
        "id": "Vqm-IiX7RcLt"
      },
      "execution_count": null,
      "outputs": []
    },
    {
      "cell_type": "code",
      "source": [
        "# Training loop for neural network\n",
        "def train_model():\n",
        "  predict_model.train()\n",
        "  for epoch in range(55):  # 55 , based on the best result produced during hypertuning\n",
        "      for inputs, labels in train_loader:\n",
        "          optimizer.zero_grad()\n",
        "          outputs = predict_model(inputs)\n",
        "          loss = criterion(outputs, labels)\n",
        "          loss.backward()\n",
        "          optimizer.step()\n",
        "      scheduler.step()\n",
        "      print(f\"Epoch {epoch+1}, Loss: {loss.item()}\")\n",
        "  return predict_model"
      ],
      "metadata": {
        "id": "D1O7qTtysgjO"
      },
      "execution_count": null,
      "outputs": []
    },
    {
      "cell_type": "code",
      "source": [
        "trained_model = train_model()"
      ],
      "metadata": {
        "colab": {
          "base_uri": "https://localhost:8080/"
        },
        "id": "AkedWZmdTPb1",
        "outputId": "78528315-ab99-4340-c3c0-bb11fedc20a5"
      },
      "execution_count": null,
      "outputs": [
        {
          "output_type": "stream",
          "name": "stdout",
          "text": [
            "Epoch 1, Loss: 0.6941301822662354\n",
            "Epoch 2, Loss: 0.6944928765296936\n",
            "Epoch 3, Loss: 0.6940318942070007\n",
            "Epoch 4, Loss: 0.6941406726837158\n",
            "Epoch 5, Loss: 0.6940476894378662\n",
            "Epoch 6, Loss: 0.6942513585090637\n",
            "Epoch 7, Loss: 0.6940442323684692\n",
            "Epoch 8, Loss: 0.6940886378288269\n",
            "Epoch 9, Loss: 0.6940945386886597\n",
            "Epoch 10, Loss: 0.6940370798110962\n",
            "Epoch 11, Loss: 0.6941156387329102\n",
            "Epoch 12, Loss: 0.6940478086471558\n",
            "Epoch 13, Loss: 0.6940494775772095\n",
            "Epoch 14, Loss: 0.6942534446716309\n",
            "Epoch 15, Loss: 0.6940634250640869\n",
            "Epoch 16, Loss: 0.6955879926681519\n",
            "Epoch 17, Loss: 0.6941063404083252\n",
            "Epoch 18, Loss: 0.6940407156944275\n",
            "Epoch 19, Loss: 0.6941575407981873\n",
            "Epoch 20, Loss: 0.6940573453903198\n",
            "Epoch 21, Loss: 0.6942717432975769\n",
            "Epoch 22, Loss: 0.6941140294075012\n",
            "Epoch 23, Loss: 0.6940861344337463\n",
            "Epoch 24, Loss: 0.6941143870353699\n",
            "Epoch 25, Loss: 0.6941884756088257\n",
            "Epoch 26, Loss: 0.6940481662750244\n",
            "Epoch 27, Loss: 0.6940653920173645\n",
            "Epoch 28, Loss: 0.6940255165100098\n",
            "Epoch 29, Loss: 0.6940867900848389\n",
            "Epoch 30, Loss: 0.6940445899963379\n",
            "Epoch 31, Loss: 0.6940513849258423\n",
            "Epoch 32, Loss: 0.6940621137619019\n",
            "Epoch 33, Loss: 0.6942380666732788\n",
            "Epoch 34, Loss: 0.6940263509750366\n",
            "Epoch 35, Loss: 0.694092869758606\n",
            "Epoch 36, Loss: 0.694075882434845\n",
            "Epoch 37, Loss: 0.6940193176269531\n",
            "Epoch 38, Loss: 0.694034218788147\n",
            "Epoch 39, Loss: 0.6940639019012451\n",
            "Epoch 40, Loss: 0.6940487623214722\n",
            "Epoch 41, Loss: 0.6940158009529114\n",
            "Epoch 42, Loss: 0.6940606832504272\n",
            "Epoch 43, Loss: 0.6940078735351562\n",
            "Epoch 44, Loss: 0.6941162943840027\n",
            "Epoch 45, Loss: 0.6942554712295532\n",
            "Epoch 46, Loss: 0.6941096186637878\n",
            "Epoch 47, Loss: 0.6940600275993347\n",
            "Epoch 48, Loss: 0.6940279006958008\n",
            "Epoch 49, Loss: 0.6941564679145813\n",
            "Epoch 50, Loss: 0.6942018866539001\n",
            "Epoch 51, Loss: 0.6942582130432129\n",
            "Epoch 52, Loss: 0.6941574215888977\n",
            "Epoch 53, Loss: 0.6941845417022705\n",
            "Epoch 54, Loss: 0.6942091584205627\n",
            "Epoch 55, Loss: 0.694488525390625\n"
          ]
        }
      ]
    },
    {
      "cell_type": "code",
      "source": [
        "# Trianing for svm\n",
        "svm_model.fit(X_train, y_train)\n",
        "\n",
        "# Make predictions\n",
        "y_pred = svm_model.predict(X_test)\n",
        "\n",
        "# Accuracy\n",
        "svm_accuracy = accuracy_score(y_test, y_pred)\n",
        "\n",
        "\n",
        "# Precision\n",
        "svm_precision = precision_score(y_test, y_pred, average='macro')\n",
        "# Recall\n",
        "svm_recall = recall_score(y_test,y_pred ,average='macro')\n",
        "# F1 score\n",
        "svm_f1 = f1_score(y_test,y_pred,average='macro')\n",
        "\n",
        "print(f'Accuracy: {svm_accuracy:.2f}, Precision {svm_precision:.2f},  Recall {svm_recall:.2f} and F1 score {svm_f1:.2f}')\n",
        "# Classification Report\n",
        "class_report = classification_report(y_test, y_pred)\n",
        "print(\"Classification Report:\\n\", class_report)\n",
        "\n",
        "# Confusion Matrix\n",
        "conf_matrix = confusion_matrix(y_test, y_pred)\n",
        "print(\"Confusion Matrix:\\n\", conf_matrix)"
      ],
      "metadata": {
        "id": "7TOpR46iO5o2"
      },
      "execution_count": null,
      "outputs": []
    },
    {
      "cell_type": "code",
      "source": [
        "import optuna\n",
        "from sklearn.svm import SVC\n",
        "from sklearn.metrics import accuracy_score\n",
        "from sklearn.model_selection import cross_val_score\n",
        "\n",
        "def objective_svm(trial):\n",
        "    kernel = trial.suggest_categorical('kernel', ['linear', 'rbf', 'poly', 'sigmoid'])\n",
        "    C = trial.suggest_loguniform('C', 1e-4, 1e4)\n",
        "\n",
        "    if kernel in ['rbf', 'sigmoid']:\n",
        "        gamma = trial.suggest_loguniform('gamma', 1e-4, 1e1)\n",
        "        svm = SVC(kernel=kernel, C=C, gamma=gamma)\n",
        "    elif kernel == 'poly':\n",
        "        gamma = trial.suggest_loguniform('gamma', 1e-4, 1e1)\n",
        "        degree = trial.suggest_int('degree', 1, 5)\n",
        "        svm = SVC(kernel=kernel, C=C, gamma=gamma, degree=degree)\n",
        "    else:\n",
        "        svm = SVC(kernel=kernel, C=C)\n",
        "\n",
        "    score = cross_val_score(svm, X_train, y_train, n_jobs=-1, cv=3)\n",
        "    accuracy = score.mean()\n",
        "    return accuracy\n",
        "\n",
        "study = optuna.create_study(direction='maximize')\n",
        "study.optimize(objective_svm, n_trials=50)\n",
        "\n",
        "print(\"Best parameters:\", study.best_params)\n",
        "print(\"Best cross-validation score:\", study.best_score_)\n"
      ],
      "metadata": {
        "colab": {
          "base_uri": "https://localhost:8080/"
        },
        "id": "_pRaKrJG087H",
        "outputId": "f96e223b-5db0-4bdb-af0b-7f9295b3a933"
      },
      "execution_count": null,
      "outputs": [
        {
          "output_type": "stream",
          "name": "stderr",
          "text": [
            "[I 2024-04-22 12:47:25,958] A new study created in memory with name: no-name-79b45ea6-fe26-4a74-ac6f-ab9ef89dd023\n",
            "<ipython-input-7-7785bead97cc>:8: FutureWarning: suggest_loguniform has been deprecated in v3.0.0. This feature will be removed in v6.0.0. See https://github.com/optuna/optuna/releases/tag/v3.0.0. Use suggest_float(..., log=True) instead.\n",
            "  C = trial.suggest_loguniform('C', 1e-4, 1e4)\n",
            "/usr/local/lib/python3.10/dist-packages/joblib/externals/loky/backend/fork_exec.py:38: RuntimeWarning: os.fork() was called. os.fork() is incompatible with multithreaded code, and JAX is multithreaded, so this will likely lead to a deadlock.\n",
            "  pid = os.fork()\n",
            "/usr/local/lib/python3.10/dist-packages/joblib/externals/loky/backend/fork_exec.py:38: RuntimeWarning: os.fork() was called. os.fork() is incompatible with multithreaded code, and JAX is multithreaded, so this will likely lead to a deadlock.\n",
            "  pid = os.fork()\n",
            "[I 2024-04-22 12:47:29,600] Trial 0 finished with value: 1.0 and parameters: {'kernel': 'linear', 'C': 0.1785379499667778}. Best is trial 0 with value: 1.0.\n",
            "<ipython-input-7-7785bead97cc>:8: FutureWarning: suggest_loguniform has been deprecated in v3.0.0. This feature will be removed in v6.0.0. See https://github.com/optuna/optuna/releases/tag/v3.0.0. Use suggest_float(..., log=True) instead.\n",
            "  C = trial.suggest_loguniform('C', 1e-4, 1e4)\n",
            "<ipython-input-7-7785bead97cc>:14: FutureWarning: suggest_loguniform has been deprecated in v3.0.0. This feature will be removed in v6.0.0. See https://github.com/optuna/optuna/releases/tag/v3.0.0. Use suggest_float(..., log=True) instead.\n",
            "  gamma = trial.suggest_loguniform('gamma', 1e-4, 1e1)\n",
            "[I 2024-04-22 12:47:31,303] Trial 1 finished with value: 1.0 and parameters: {'kernel': 'poly', 'C': 139.5531627841051, 'gamma': 1.4592309550121214, 'degree': 5}. Best is trial 0 with value: 1.0.\n",
            "<ipython-input-7-7785bead97cc>:8: FutureWarning: suggest_loguniform has been deprecated in v3.0.0. This feature will be removed in v6.0.0. See https://github.com/optuna/optuna/releases/tag/v3.0.0. Use suggest_float(..., log=True) instead.\n",
            "  C = trial.suggest_loguniform('C', 1e-4, 1e4)\n",
            "[I 2024-04-22 12:47:34,795] Trial 2 finished with value: 1.0 and parameters: {'kernel': 'linear', 'C': 930.4133200808059}. Best is trial 0 with value: 1.0.\n",
            "<ipython-input-7-7785bead97cc>:8: FutureWarning: suggest_loguniform has been deprecated in v3.0.0. This feature will be removed in v6.0.0. See https://github.com/optuna/optuna/releases/tag/v3.0.0. Use suggest_float(..., log=True) instead.\n",
            "  C = trial.suggest_loguniform('C', 1e-4, 1e4)\n",
            "[I 2024-04-22 12:47:36,024] Trial 3 finished with value: 1.0 and parameters: {'kernel': 'linear', 'C': 0.3192000762640428}. Best is trial 0 with value: 1.0.\n",
            "<ipython-input-7-7785bead97cc>:8: FutureWarning: suggest_loguniform has been deprecated in v3.0.0. This feature will be removed in v6.0.0. See https://github.com/optuna/optuna/releases/tag/v3.0.0. Use suggest_float(..., log=True) instead.\n",
            "  C = trial.suggest_loguniform('C', 1e-4, 1e4)\n",
            "<ipython-input-7-7785bead97cc>:14: FutureWarning: suggest_loguniform has been deprecated in v3.0.0. This feature will be removed in v6.0.0. See https://github.com/optuna/optuna/releases/tag/v3.0.0. Use suggest_float(..., log=True) instead.\n",
            "  gamma = trial.suggest_loguniform('gamma', 1e-4, 1e1)\n",
            "[I 2024-04-22 12:47:53,193] Trial 4 finished with value: 0.026461696910511836 and parameters: {'kernel': 'poly', 'C': 0.012824317080080113, 'gamma': 0.00023449760497266074, 'degree': 4}. Best is trial 0 with value: 1.0.\n",
            "<ipython-input-7-7785bead97cc>:8: FutureWarning: suggest_loguniform has been deprecated in v3.0.0. This feature will be removed in v6.0.0. See https://github.com/optuna/optuna/releases/tag/v3.0.0. Use suggest_float(..., log=True) instead.\n",
            "  C = trial.suggest_loguniform('C', 1e-4, 1e4)\n",
            "<ipython-input-7-7785bead97cc>:11: FutureWarning: suggest_loguniform has been deprecated in v3.0.0. This feature will be removed in v6.0.0. See https://github.com/optuna/optuna/releases/tag/v3.0.0. Use suggest_float(..., log=True) instead.\n",
            "  gamma = trial.suggest_loguniform('gamma', 1e-4, 1e1)\n",
            "[I 2024-04-22 12:47:55,658] Trial 5 finished with value: 0.99899218946838 and parameters: {'kernel': 'rbf', 'C': 2.0232343526651047, 'gamma': 0.00022496707613003358}. Best is trial 0 with value: 1.0.\n",
            "<ipython-input-7-7785bead97cc>:8: FutureWarning: suggest_loguniform has been deprecated in v3.0.0. This feature will be removed in v6.0.0. See https://github.com/optuna/optuna/releases/tag/v3.0.0. Use suggest_float(..., log=True) instead.\n",
            "  C = trial.suggest_loguniform('C', 1e-4, 1e4)\n",
            "<ipython-input-7-7785bead97cc>:14: FutureWarning: suggest_loguniform has been deprecated in v3.0.0. This feature will be removed in v6.0.0. See https://github.com/optuna/optuna/releases/tag/v3.0.0. Use suggest_float(..., log=True) instead.\n",
            "  gamma = trial.suggest_loguniform('gamma', 1e-4, 1e1)\n",
            "[I 2024-04-22 12:47:56,901] Trial 6 finished with value: 1.0 and parameters: {'kernel': 'poly', 'C': 0.005227598795961909, 'gamma': 0.2340775731282505, 'degree': 5}. Best is trial 0 with value: 1.0.\n",
            "<ipython-input-7-7785bead97cc>:8: FutureWarning: suggest_loguniform has been deprecated in v3.0.0. This feature will be removed in v6.0.0. See https://github.com/optuna/optuna/releases/tag/v3.0.0. Use suggest_float(..., log=True) instead.\n",
            "  C = trial.suggest_loguniform('C', 1e-4, 1e4)\n",
            "[I 2024-04-22 12:47:58,114] Trial 7 finished with value: 1.0 and parameters: {'kernel': 'linear', 'C': 0.012699302837238653}. Best is trial 0 with value: 1.0.\n",
            "<ipython-input-7-7785bead97cc>:8: FutureWarning: suggest_loguniform has been deprecated in v3.0.0. This feature will be removed in v6.0.0. See https://github.com/optuna/optuna/releases/tag/v3.0.0. Use suggest_float(..., log=True) instead.\n",
            "  C = trial.suggest_loguniform('C', 1e-4, 1e4)\n",
            "<ipython-input-7-7785bead97cc>:11: FutureWarning: suggest_loguniform has been deprecated in v3.0.0. This feature will be removed in v6.0.0. See https://github.com/optuna/optuna/releases/tag/v3.0.0. Use suggest_float(..., log=True) instead.\n",
            "  gamma = trial.suggest_loguniform('gamma', 1e-4, 1e1)\n",
            "[I 2024-04-22 12:48:00,548] Trial 8 finished with value: 0.9997478567826525 and parameters: {'kernel': 'rbf', 'C': 21.255108905837698, 'gamma': 0.03494235284440349}. Best is trial 0 with value: 1.0.\n",
            "<ipython-input-7-7785bead97cc>:8: FutureWarning: suggest_loguniform has been deprecated in v3.0.0. This feature will be removed in v6.0.0. See https://github.com/optuna/optuna/releases/tag/v3.0.0. Use suggest_float(..., log=True) instead.\n",
            "  C = trial.suggest_loguniform('C', 1e-4, 1e4)\n",
            "<ipython-input-7-7785bead97cc>:11: FutureWarning: suggest_loguniform has been deprecated in v3.0.0. This feature will be removed in v6.0.0. See https://github.com/optuna/optuna/releases/tag/v3.0.0. Use suggest_float(..., log=True) instead.\n",
            "  gamma = trial.suggest_loguniform('gamma', 1e-4, 1e1)\n",
            "[I 2024-04-22 12:48:03,524] Trial 9 finished with value: 1.0 and parameters: {'kernel': 'rbf', 'C': 33.32497303794628, 'gamma': 0.026955228040556053}. Best is trial 0 with value: 1.0.\n",
            "<ipython-input-7-7785bead97cc>:8: FutureWarning: suggest_loguniform has been deprecated in v3.0.0. This feature will be removed in v6.0.0. See https://github.com/optuna/optuna/releases/tag/v3.0.0. Use suggest_float(..., log=True) instead.\n",
            "  C = trial.suggest_loguniform('C', 1e-4, 1e4)\n",
            "<ipython-input-7-7785bead97cc>:11: FutureWarning: suggest_loguniform has been deprecated in v3.0.0. This feature will be removed in v6.0.0. See https://github.com/optuna/optuna/releases/tag/v3.0.0. Use suggest_float(..., log=True) instead.\n",
            "  gamma = trial.suggest_loguniform('gamma', 1e-4, 1e1)\n",
            "[I 2024-04-22 12:48:20,606] Trial 10 finished with value: 0.026461696910511836 and parameters: {'kernel': 'sigmoid', 'C': 0.00013044677645075074, 'gamma': 0.003571497613208215}. Best is trial 0 with value: 1.0.\n",
            "<ipython-input-7-7785bead97cc>:8: FutureWarning: suggest_loguniform has been deprecated in v3.0.0. This feature will be removed in v6.0.0. See https://github.com/optuna/optuna/releases/tag/v3.0.0. Use suggest_float(..., log=True) instead.\n",
            "  C = trial.suggest_loguniform('C', 1e-4, 1e4)\n",
            "<ipython-input-7-7785bead97cc>:14: FutureWarning: suggest_loguniform has been deprecated in v3.0.0. This feature will be removed in v6.0.0. See https://github.com/optuna/optuna/releases/tag/v3.0.0. Use suggest_float(..., log=True) instead.\n",
            "  gamma = trial.suggest_loguniform('gamma', 1e-4, 1e1)\n",
            "[I 2024-04-22 12:48:21,824] Trial 11 finished with value: 1.0 and parameters: {'kernel': 'poly', 'C': 264.31487985838635, 'gamma': 7.789205358133171, 'degree': 2}. Best is trial 0 with value: 1.0.\n",
            "<ipython-input-7-7785bead97cc>:8: FutureWarning: suggest_loguniform has been deprecated in v3.0.0. This feature will be removed in v6.0.0. See https://github.com/optuna/optuna/releases/tag/v3.0.0. Use suggest_float(..., log=True) instead.\n",
            "  C = trial.suggest_loguniform('C', 1e-4, 1e4)\n",
            "<ipython-input-7-7785bead97cc>:11: FutureWarning: suggest_loguniform has been deprecated in v3.0.0. This feature will be removed in v6.0.0. See https://github.com/optuna/optuna/releases/tag/v3.0.0. Use suggest_float(..., log=True) instead.\n",
            "  gamma = trial.suggest_loguniform('gamma', 1e-4, 1e1)\n",
            "[I 2024-04-22 12:48:32,068] Trial 12 finished with value: 0.12626695772722715 and parameters: {'kernel': 'sigmoid', 'C': 8288.176641142827, 'gamma': 6.486087924937385}. Best is trial 0 with value: 1.0.\n",
            "<ipython-input-7-7785bead97cc>:8: FutureWarning: suggest_loguniform has been deprecated in v3.0.0. This feature will be removed in v6.0.0. See https://github.com/optuna/optuna/releases/tag/v3.0.0. Use suggest_float(..., log=True) instead.\n",
            "  C = trial.suggest_loguniform('C', 1e-4, 1e4)\n",
            "[I 2024-04-22 12:48:33,308] Trial 13 finished with value: 1.0 and parameters: {'kernel': 'linear', 'C': 0.7547422511125329}. Best is trial 0 with value: 1.0.\n",
            "<ipython-input-7-7785bead97cc>:8: FutureWarning: suggest_loguniform has been deprecated in v3.0.0. This feature will be removed in v6.0.0. See https://github.com/optuna/optuna/releases/tag/v3.0.0. Use suggest_float(..., log=True) instead.\n",
            "  C = trial.suggest_loguniform('C', 1e-4, 1e4)\n",
            "<ipython-input-7-7785bead97cc>:14: FutureWarning: suggest_loguniform has been deprecated in v3.0.0. This feature will be removed in v6.0.0. See https://github.com/optuna/optuna/releases/tag/v3.0.0. Use suggest_float(..., log=True) instead.\n",
            "  gamma = trial.suggest_loguniform('gamma', 1e-4, 1e1)\n",
            "[I 2024-04-22 12:48:34,448] Trial 14 finished with value: 1.0 and parameters: {'kernel': 'poly', 'C': 9.425855945624297, 'gamma': 0.8194592303661481, 'degree': 1}. Best is trial 0 with value: 1.0.\n",
            "<ipython-input-7-7785bead97cc>:8: FutureWarning: suggest_loguniform has been deprecated in v3.0.0. This feature will be removed in v6.0.0. See https://github.com/optuna/optuna/releases/tag/v3.0.0. Use suggest_float(..., log=True) instead.\n",
            "  C = trial.suggest_loguniform('C', 1e-4, 1e4)\n",
            "[I 2024-04-22 12:48:35,605] Trial 15 finished with value: 1.0 and parameters: {'kernel': 'linear', 'C': 0.09796333857982076}. Best is trial 0 with value: 1.0.\n",
            "<ipython-input-7-7785bead97cc>:8: FutureWarning: suggest_loguniform has been deprecated in v3.0.0. This feature will be removed in v6.0.0. See https://github.com/optuna/optuna/releases/tag/v3.0.0. Use suggest_float(..., log=True) instead.\n",
            "  C = trial.suggest_loguniform('C', 1e-4, 1e4)\n",
            "<ipython-input-7-7785bead97cc>:14: FutureWarning: suggest_loguniform has been deprecated in v3.0.0. This feature will be removed in v6.0.0. See https://github.com/optuna/optuna/releases/tag/v3.0.0. Use suggest_float(..., log=True) instead.\n",
            "  gamma = trial.suggest_loguniform('gamma', 1e-4, 1e1)\n",
            "[I 2024-04-22 12:48:36,822] Trial 16 finished with value: 1.0 and parameters: {'kernel': 'poly', 'C': 409.65314833080913, 'gamma': 0.6289727312315062, 'degree': 5}. Best is trial 0 with value: 1.0.\n",
            "<ipython-input-7-7785bead97cc>:8: FutureWarning: suggest_loguniform has been deprecated in v3.0.0. This feature will be removed in v6.0.0. See https://github.com/optuna/optuna/releases/tag/v3.0.0. Use suggest_float(..., log=True) instead.\n",
            "  C = trial.suggest_loguniform('C', 1e-4, 1e4)\n",
            "<ipython-input-7-7785bead97cc>:11: FutureWarning: suggest_loguniform has been deprecated in v3.0.0. This feature will be removed in v6.0.0. See https://github.com/optuna/optuna/releases/tag/v3.0.0. Use suggest_float(..., log=True) instead.\n",
            "  gamma = trial.suggest_loguniform('gamma', 1e-4, 1e1)\n",
            "[I 2024-04-22 12:48:53,827] Trial 17 finished with value: 0.026461696910511836 and parameters: {'kernel': 'sigmoid', 'C': 0.00019625299454041953, 'gamma': 0.05506034708551389}. Best is trial 0 with value: 1.0.\n",
            "<ipython-input-7-7785bead97cc>:8: FutureWarning: suggest_loguniform has been deprecated in v3.0.0. This feature will be removed in v6.0.0. See https://github.com/optuna/optuna/releases/tag/v3.0.0. Use suggest_float(..., log=True) instead.\n",
            "  C = trial.suggest_loguniform('C', 1e-4, 1e4)\n",
            "<ipython-input-7-7785bead97cc>:14: FutureWarning: suggest_loguniform has been deprecated in v3.0.0. This feature will be removed in v6.0.0. See https://github.com/optuna/optuna/releases/tag/v3.0.0. Use suggest_float(..., log=True) instead.\n",
            "  gamma = trial.suggest_loguniform('gamma', 1e-4, 1e1)\n",
            "[I 2024-04-22 12:48:55,431] Trial 18 finished with value: 1.0 and parameters: {'kernel': 'poly', 'C': 4.026804184146244, 'gamma': 0.002086832943153879, 'degree': 3}. Best is trial 0 with value: 1.0.\n",
            "<ipython-input-7-7785bead97cc>:8: FutureWarning: suggest_loguniform has been deprecated in v3.0.0. This feature will be removed in v6.0.0. See https://github.com/optuna/optuna/releases/tag/v3.0.0. Use suggest_float(..., log=True) instead.\n",
            "  C = trial.suggest_loguniform('C', 1e-4, 1e4)\n",
            "[I 2024-04-22 12:48:56,943] Trial 19 finished with value: 1.0 and parameters: {'kernel': 'linear', 'C': 0.09376449292386431}. Best is trial 0 with value: 1.0.\n",
            "<ipython-input-7-7785bead97cc>:8: FutureWarning: suggest_loguniform has been deprecated in v3.0.0. This feature will be removed in v6.0.0. See https://github.com/optuna/optuna/releases/tag/v3.0.0. Use suggest_float(..., log=True) instead.\n",
            "  C = trial.suggest_loguniform('C', 1e-4, 1e4)\n",
            "<ipython-input-7-7785bead97cc>:14: FutureWarning: suggest_loguniform has been deprecated in v3.0.0. This feature will be removed in v6.0.0. See https://github.com/optuna/optuna/releases/tag/v3.0.0. Use suggest_float(..., log=True) instead.\n",
            "  gamma = trial.suggest_loguniform('gamma', 1e-4, 1e1)\n",
            "[I 2024-04-22 12:48:58,255] Trial 20 finished with value: 1.0 and parameters: {'kernel': 'poly', 'C': 57.7534787442254, 'gamma': 1.871354445004663, 'degree': 4}. Best is trial 0 with value: 1.0.\n",
            "<ipython-input-7-7785bead97cc>:8: FutureWarning: suggest_loguniform has been deprecated in v3.0.0. This feature will be removed in v6.0.0. See https://github.com/optuna/optuna/releases/tag/v3.0.0. Use suggest_float(..., log=True) instead.\n",
            "  C = trial.suggest_loguniform('C', 1e-4, 1e4)\n",
            "[I 2024-04-22 12:48:59,504] Trial 21 finished with value: 1.0 and parameters: {'kernel': 'linear', 'C': 1140.7544342401432}. Best is trial 0 with value: 1.0.\n",
            "<ipython-input-7-7785bead97cc>:8: FutureWarning: suggest_loguniform has been deprecated in v3.0.0. This feature will be removed in v6.0.0. See https://github.com/optuna/optuna/releases/tag/v3.0.0. Use suggest_float(..., log=True) instead.\n",
            "  C = trial.suggest_loguniform('C', 1e-4, 1e4)\n",
            "[I 2024-04-22 12:49:00,672] Trial 22 finished with value: 1.0 and parameters: {'kernel': 'linear', 'C': 1711.977068330519}. Best is trial 0 with value: 1.0.\n",
            "<ipython-input-7-7785bead97cc>:8: FutureWarning: suggest_loguniform has been deprecated in v3.0.0. This feature will be removed in v6.0.0. See https://github.com/optuna/optuna/releases/tag/v3.0.0. Use suggest_float(..., log=True) instead.\n",
            "  C = trial.suggest_loguniform('C', 1e-4, 1e4)\n",
            "[I 2024-04-22 12:49:02,698] Trial 23 finished with value: 1.0 and parameters: {'kernel': 'linear', 'C': 9197.520801195044}. Best is trial 0 with value: 1.0.\n",
            "<ipython-input-7-7785bead97cc>:8: FutureWarning: suggest_loguniform has been deprecated in v3.0.0. This feature will be removed in v6.0.0. See https://github.com/optuna/optuna/releases/tag/v3.0.0. Use suggest_float(..., log=True) instead.\n",
            "  C = trial.suggest_loguniform('C', 1e-4, 1e4)\n",
            "[I 2024-04-22 12:49:04,471] Trial 24 finished with value: 1.0 and parameters: {'kernel': 'linear', 'C': 68.16858330705497}. Best is trial 0 with value: 1.0.\n",
            "<ipython-input-7-7785bead97cc>:8: FutureWarning: suggest_loguniform has been deprecated in v3.0.0. This feature will be removed in v6.0.0. See https://github.com/optuna/optuna/releases/tag/v3.0.0. Use suggest_float(..., log=True) instead.\n",
            "  C = trial.suggest_loguniform('C', 1e-4, 1e4)\n",
            "[I 2024-04-22 12:49:05,723] Trial 25 finished with value: 1.0 and parameters: {'kernel': 'linear', 'C': 123.44131616122908}. Best is trial 0 with value: 1.0.\n",
            "<ipython-input-7-7785bead97cc>:8: FutureWarning: suggest_loguniform has been deprecated in v3.0.0. This feature will be removed in v6.0.0. See https://github.com/optuna/optuna/releases/tag/v3.0.0. Use suggest_float(..., log=True) instead.\n",
            "  C = trial.suggest_loguniform('C', 1e-4, 1e4)\n",
            "<ipython-input-7-7785bead97cc>:11: FutureWarning: suggest_loguniform has been deprecated in v3.0.0. This feature will be removed in v6.0.0. See https://github.com/optuna/optuna/releases/tag/v3.0.0. Use suggest_float(..., log=True) instead.\n",
            "  gamma = trial.suggest_loguniform('gamma', 1e-4, 1e1)\n",
            "[I 2024-04-22 12:49:08,698] Trial 26 finished with value: 0.9967229005122529 and parameters: {'kernel': 'rbf', 'C': 1270.1238255292185, 'gamma': 0.1375410748759613}. Best is trial 0 with value: 1.0.\n",
            "<ipython-input-7-7785bead97cc>:8: FutureWarning: suggest_loguniform has been deprecated in v3.0.0. This feature will be removed in v6.0.0. See https://github.com/optuna/optuna/releases/tag/v3.0.0. Use suggest_float(..., log=True) instead.\n",
            "  C = trial.suggest_loguniform('C', 1e-4, 1e4)\n",
            "<ipython-input-7-7785bead97cc>:11: FutureWarning: suggest_loguniform has been deprecated in v3.0.0. This feature will be removed in v6.0.0. See https://github.com/optuna/optuna/releases/tag/v3.0.0. Use suggest_float(..., log=True) instead.\n",
            "  gamma = trial.suggest_loguniform('gamma', 1e-4, 1e1)\n",
            "[I 2024-04-22 12:49:16,892] Trial 27 finished with value: 0.7623450119667972 and parameters: {'kernel': 'sigmoid', 'C': 0.13921285961878846, 'gamma': 0.005475068219773815}. Best is trial 0 with value: 1.0.\n",
            "<ipython-input-7-7785bead97cc>:8: FutureWarning: suggest_loguniform has been deprecated in v3.0.0. This feature will be removed in v6.0.0. See https://github.com/optuna/optuna/releases/tag/v3.0.0. Use suggest_float(..., log=True) instead.\n",
            "  C = trial.suggest_loguniform('C', 1e-4, 1e4)\n",
            "[I 2024-04-22 12:49:18,346] Trial 28 finished with value: 1.0 and parameters: {'kernel': 'linear', 'C': 0.0015899145043881506}. Best is trial 0 with value: 1.0.\n",
            "<ipython-input-7-7785bead97cc>:8: FutureWarning: suggest_loguniform has been deprecated in v3.0.0. This feature will be removed in v6.0.0. See https://github.com/optuna/optuna/releases/tag/v3.0.0. Use suggest_float(..., log=True) instead.\n",
            "  C = trial.suggest_loguniform('C', 1e-4, 1e4)\n",
            "[I 2024-04-22 12:49:19,619] Trial 29 finished with value: 1.0 and parameters: {'kernel': 'linear', 'C': 0.4702770585177163}. Best is trial 0 with value: 1.0.\n",
            "<ipython-input-7-7785bead97cc>:8: FutureWarning: suggest_loguniform has been deprecated in v3.0.0. This feature will be removed in v6.0.0. See https://github.com/optuna/optuna/releases/tag/v3.0.0. Use suggest_float(..., log=True) instead.\n",
            "  C = trial.suggest_loguniform('C', 1e-4, 1e4)\n",
            "<ipython-input-7-7785bead97cc>:14: FutureWarning: suggest_loguniform has been deprecated in v3.0.0. This feature will be removed in v6.0.0. See https://github.com/optuna/optuna/releases/tag/v3.0.0. Use suggest_float(..., log=True) instead.\n",
            "  gamma = trial.suggest_loguniform('gamma', 1e-4, 1e1)\n",
            "[I 2024-04-22 12:49:22,972] Trial 30 finished with value: 1.0 and parameters: {'kernel': 'poly', 'C': 5.58975301641747, 'gamma': 2.088866944862442, 'degree': 3}. Best is trial 0 with value: 1.0.\n",
            "<ipython-input-7-7785bead97cc>:8: FutureWarning: suggest_loguniform has been deprecated in v3.0.0. This feature will be removed in v6.0.0. See https://github.com/optuna/optuna/releases/tag/v3.0.0. Use suggest_float(..., log=True) instead.\n",
            "  C = trial.suggest_loguniform('C', 1e-4, 1e4)\n",
            "[I 2024-04-22 12:49:24,553] Trial 31 finished with value: 1.0 and parameters: {'kernel': 'linear', 'C': 0.24800774757518573}. Best is trial 0 with value: 1.0.\n",
            "<ipython-input-7-7785bead97cc>:8: FutureWarning: suggest_loguniform has been deprecated in v3.0.0. This feature will be removed in v6.0.0. See https://github.com/optuna/optuna/releases/tag/v3.0.0. Use suggest_float(..., log=True) instead.\n",
            "  C = trial.suggest_loguniform('C', 1e-4, 1e4)\n",
            "[I 2024-04-22 12:49:25,812] Trial 32 finished with value: 1.0 and parameters: {'kernel': 'linear', 'C': 0.028822840328763758}. Best is trial 0 with value: 1.0.\n",
            "<ipython-input-7-7785bead97cc>:8: FutureWarning: suggest_loguniform has been deprecated in v3.0.0. This feature will be removed in v6.0.0. See https://github.com/optuna/optuna/releases/tag/v3.0.0. Use suggest_float(..., log=True) instead.\n",
            "  C = trial.suggest_loguniform('C', 1e-4, 1e4)\n",
            "[I 2024-04-22 12:49:27,080] Trial 33 finished with value: 1.0 and parameters: {'kernel': 'linear', 'C': 1.1880511406315897}. Best is trial 0 with value: 1.0.\n",
            "<ipython-input-7-7785bead97cc>:8: FutureWarning: suggest_loguniform has been deprecated in v3.0.0. This feature will be removed in v6.0.0. See https://github.com/optuna/optuna/releases/tag/v3.0.0. Use suggest_float(..., log=True) instead.\n",
            "  C = trial.suggest_loguniform('C', 1e-4, 1e4)\n",
            "<ipython-input-7-7785bead97cc>:14: FutureWarning: suggest_loguniform has been deprecated in v3.0.0. This feature will be removed in v6.0.0. See https://github.com/optuna/optuna/releases/tag/v3.0.0. Use suggest_float(..., log=True) instead.\n",
            "  gamma = trial.suggest_loguniform('gamma', 1e-4, 1e1)\n",
            "[I 2024-04-22 12:49:42,264] Trial 34 finished with value: 0.23311393252319698 and parameters: {'kernel': 'poly', 'C': 0.03435977564130038, 'gamma': 0.0008327260274666655, 'degree': 5}. Best is trial 0 with value: 1.0.\n",
            "<ipython-input-7-7785bead97cc>:8: FutureWarning: suggest_loguniform has been deprecated in v3.0.0. This feature will be removed in v6.0.0. See https://github.com/optuna/optuna/releases/tag/v3.0.0. Use suggest_float(..., log=True) instead.\n",
            "  C = trial.suggest_loguniform('C', 1e-4, 1e4)\n",
            "<ipython-input-7-7785bead97cc>:11: FutureWarning: suggest_loguniform has been deprecated in v3.0.0. This feature will be removed in v6.0.0. See https://github.com/optuna/optuna/releases/tag/v3.0.0. Use suggest_float(..., log=True) instead.\n",
            "  gamma = trial.suggest_loguniform('gamma', 1e-4, 1e1)\n",
            "[I 2024-04-22 12:49:44,580] Trial 35 finished with value: 0.9967229005122529 and parameters: {'kernel': 'rbf', 'C': 2.3977815014979784, 'gamma': 0.22558731305623508}. Best is trial 0 with value: 1.0.\n",
            "<ipython-input-7-7785bead97cc>:8: FutureWarning: suggest_loguniform has been deprecated in v3.0.0. This feature will be removed in v6.0.0. See https://github.com/optuna/optuna/releases/tag/v3.0.0. Use suggest_float(..., log=True) instead.\n",
            "  C = trial.suggest_loguniform('C', 1e-4, 1e4)\n",
            "[I 2024-04-22 12:49:45,839] Trial 36 finished with value: 1.0 and parameters: {'kernel': 'linear', 'C': 2908.12243063897}. Best is trial 0 with value: 1.0.\n",
            "<ipython-input-7-7785bead97cc>:8: FutureWarning: suggest_loguniform has been deprecated in v3.0.0. This feature will be removed in v6.0.0. See https://github.com/optuna/optuna/releases/tag/v3.0.0. Use suggest_float(..., log=True) instead.\n",
            "  C = trial.suggest_loguniform('C', 1e-4, 1e4)\n",
            "[I 2024-04-22 12:49:47,128] Trial 37 finished with value: 1.0 and parameters: {'kernel': 'linear', 'C': 0.005882607729475319}. Best is trial 0 with value: 1.0.\n",
            "<ipython-input-7-7785bead97cc>:8: FutureWarning: suggest_loguniform has been deprecated in v3.0.0. This feature will be removed in v6.0.0. See https://github.com/optuna/optuna/releases/tag/v3.0.0. Use suggest_float(..., log=True) instead.\n",
            "  C = trial.suggest_loguniform('C', 1e-4, 1e4)\n",
            "<ipython-input-7-7785bead97cc>:11: FutureWarning: suggest_loguniform has been deprecated in v3.0.0. This feature will be removed in v6.0.0. See https://github.com/optuna/optuna/releases/tag/v3.0.0. Use suggest_float(..., log=True) instead.\n",
            "  gamma = trial.suggest_loguniform('gamma', 1e-4, 1e1)\n",
            "[I 2024-04-22 12:49:50,019] Trial 38 finished with value: 1.0 and parameters: {'kernel': 'rbf', 'C': 12.577312897684147, 'gamma': 0.01297784723839599}. Best is trial 0 with value: 1.0.\n",
            "<ipython-input-7-7785bead97cc>:8: FutureWarning: suggest_loguniform has been deprecated in v3.0.0. This feature will be removed in v6.0.0. See https://github.com/optuna/optuna/releases/tag/v3.0.0. Use suggest_float(..., log=True) instead.\n",
            "  C = trial.suggest_loguniform('C', 1e-4, 1e4)\n",
            "<ipython-input-7-7785bead97cc>:14: FutureWarning: suggest_loguniform has been deprecated in v3.0.0. This feature will be removed in v6.0.0. See https://github.com/optuna/optuna/releases/tag/v3.0.0. Use suggest_float(..., log=True) instead.\n",
            "  gamma = trial.suggest_loguniform('gamma', 1e-4, 1e1)\n",
            "[I 2024-04-22 12:49:51,317] Trial 39 finished with value: 1.0 and parameters: {'kernel': 'poly', 'C': 328.42097931400644, 'gamma': 2.276659936268187, 'degree': 4}. Best is trial 0 with value: 1.0.\n",
            "<ipython-input-7-7785bead97cc>:8: FutureWarning: suggest_loguniform has been deprecated in v3.0.0. This feature will be removed in v6.0.0. See https://github.com/optuna/optuna/releases/tag/v3.0.0. Use suggest_float(..., log=True) instead.\n",
            "  C = trial.suggest_loguniform('C', 1e-4, 1e4)\n",
            "[I 2024-04-22 12:49:52,576] Trial 40 finished with value: 1.0 and parameters: {'kernel': 'linear', 'C': 0.035200708438313466}. Best is trial 0 with value: 1.0.\n",
            "<ipython-input-7-7785bead97cc>:8: FutureWarning: suggest_loguniform has been deprecated in v3.0.0. This feature will be removed in v6.0.0. See https://github.com/optuna/optuna/releases/tag/v3.0.0. Use suggest_float(..., log=True) instead.\n",
            "  C = trial.suggest_loguniform('C', 1e-4, 1e4)\n",
            "<ipython-input-7-7785bead97cc>:14: FutureWarning: suggest_loguniform has been deprecated in v3.0.0. This feature will be removed in v6.0.0. See https://github.com/optuna/optuna/releases/tag/v3.0.0. Use suggest_float(..., log=True) instead.\n",
            "  gamma = trial.suggest_loguniform('gamma', 1e-4, 1e1)\n",
            "[I 2024-04-22 12:49:53,846] Trial 41 finished with value: 1.0 and parameters: {'kernel': 'poly', 'C': 0.0019669851586705893, 'gamma': 0.26469128237199957, 'degree': 5}. Best is trial 0 with value: 1.0.\n",
            "<ipython-input-7-7785bead97cc>:8: FutureWarning: suggest_loguniform has been deprecated in v3.0.0. This feature will be removed in v6.0.0. See https://github.com/optuna/optuna/releases/tag/v3.0.0. Use suggest_float(..., log=True) instead.\n",
            "  C = trial.suggest_loguniform('C', 1e-4, 1e4)\n",
            "<ipython-input-7-7785bead97cc>:14: FutureWarning: suggest_loguniform has been deprecated in v3.0.0. This feature will be removed in v6.0.0. See https://github.com/optuna/optuna/releases/tag/v3.0.0. Use suggest_float(..., log=True) instead.\n",
            "  gamma = trial.suggest_loguniform('gamma', 1e-4, 1e1)\n",
            "[I 2024-04-22 12:49:55,102] Trial 42 finished with value: 1.0 and parameters: {'kernel': 'poly', 'C': 0.007992468924867787, 'gamma': 0.0899079880457116, 'degree': 5}. Best is trial 0 with value: 1.0.\n",
            "<ipython-input-7-7785bead97cc>:8: FutureWarning: suggest_loguniform has been deprecated in v3.0.0. This feature will be removed in v6.0.0. See https://github.com/optuna/optuna/releases/tag/v3.0.0. Use suggest_float(..., log=True) instead.\n",
            "  C = trial.suggest_loguniform('C', 1e-4, 1e4)\n",
            "<ipython-input-7-7785bead97cc>:14: FutureWarning: suggest_loguniform has been deprecated in v3.0.0. This feature will be removed in v6.0.0. See https://github.com/optuna/optuna/releases/tag/v3.0.0. Use suggest_float(..., log=True) instead.\n",
            "  gamma = trial.suggest_loguniform('gamma', 1e-4, 1e1)\n",
            "[I 2024-04-22 12:49:56,284] Trial 43 finished with value: 1.0 and parameters: {'kernel': 'poly', 'C': 0.00031184747803531605, 'gamma': 0.6010538707227248, 'degree': 4}. Best is trial 0 with value: 1.0.\n",
            "<ipython-input-7-7785bead97cc>:8: FutureWarning: suggest_loguniform has been deprecated in v3.0.0. This feature will be removed in v6.0.0. See https://github.com/optuna/optuna/releases/tag/v3.0.0. Use suggest_float(..., log=True) instead.\n",
            "  C = trial.suggest_loguniform('C', 1e-4, 1e4)\n",
            "<ipython-input-7-7785bead97cc>:11: FutureWarning: suggest_loguniform has been deprecated in v3.0.0. This feature will be removed in v6.0.0. See https://github.com/optuna/optuna/releases/tag/v3.0.0. Use suggest_float(..., log=True) instead.\n",
            "  gamma = trial.suggest_loguniform('gamma', 1e-4, 1e1)\n",
            "[I 2024-04-22 12:50:11,504] Trial 44 finished with value: 0.026461696910511836 and parameters: {'kernel': 'sigmoid', 'C': 0.0022816414664998904, 'gamma': 3.7070786299456877}. Best is trial 0 with value: 1.0.\n",
            "<ipython-input-7-7785bead97cc>:8: FutureWarning: suggest_loguniform has been deprecated in v3.0.0. This feature will be removed in v6.0.0. See https://github.com/optuna/optuna/releases/tag/v3.0.0. Use suggest_float(..., log=True) instead.\n",
            "  C = trial.suggest_loguniform('C', 1e-4, 1e4)\n",
            "<ipython-input-7-7785bead97cc>:14: FutureWarning: suggest_loguniform has been deprecated in v3.0.0. This feature will be removed in v6.0.0. See https://github.com/optuna/optuna/releases/tag/v3.0.0. Use suggest_float(..., log=True) instead.\n",
            "  gamma = trial.suggest_loguniform('gamma', 1e-4, 1e1)\n",
            "[I 2024-04-22 12:50:12,737] Trial 45 finished with value: 1.0 and parameters: {'kernel': 'poly', 'C': 0.4223262207970121, 'gamma': 0.3840586068576807, 'degree': 2}. Best is trial 0 with value: 1.0.\n",
            "<ipython-input-7-7785bead97cc>:8: FutureWarning: suggest_loguniform has been deprecated in v3.0.0. This feature will be removed in v6.0.0. See https://github.com/optuna/optuna/releases/tag/v3.0.0. Use suggest_float(..., log=True) instead.\n",
            "  C = trial.suggest_loguniform('C', 1e-4, 1e4)\n",
            "<ipython-input-7-7785bead97cc>:14: FutureWarning: suggest_loguniform has been deprecated in v3.0.0. This feature will be removed in v6.0.0. See https://github.com/optuna/optuna/releases/tag/v3.0.0. Use suggest_float(..., log=True) instead.\n",
            "  gamma = trial.suggest_loguniform('gamma', 1e-4, 1e1)\n",
            "[I 2024-04-22 12:50:14,208] Trial 46 finished with value: 1.0 and parameters: {'kernel': 'poly', 'C': 20.764048630463098, 'gamma': 1.0679799734199056, 'degree': 5}. Best is trial 0 with value: 1.0.\n",
            "<ipython-input-7-7785bead97cc>:8: FutureWarning: suggest_loguniform has been deprecated in v3.0.0. This feature will be removed in v6.0.0. See https://github.com/optuna/optuna/releases/tag/v3.0.0. Use suggest_float(..., log=True) instead.\n",
            "  C = trial.suggest_loguniform('C', 1e-4, 1e4)\n",
            "<ipython-input-7-7785bead97cc>:11: FutureWarning: suggest_loguniform has been deprecated in v3.0.0. This feature will be removed in v6.0.0. See https://github.com/optuna/optuna/releases/tag/v3.0.0. Use suggest_float(..., log=True) instead.\n",
            "  gamma = trial.suggest_loguniform('gamma', 1e-4, 1e1)\n",
            "[I 2024-04-22 12:50:24,431] Trial 47 finished with value: 0.09652072853571304 and parameters: {'kernel': 'sigmoid', 'C': 1.1588350892384585, 'gamma': 0.11790143328188396}. Best is trial 0 with value: 1.0.\n",
            "<ipython-input-7-7785bead97cc>:8: FutureWarning: suggest_loguniform has been deprecated in v3.0.0. This feature will be removed in v6.0.0. See https://github.com/optuna/optuna/releases/tag/v3.0.0. Use suggest_float(..., log=True) instead.\n",
            "  C = trial.suggest_loguniform('C', 1e-4, 1e4)\n",
            "<ipython-input-7-7785bead97cc>:11: FutureWarning: suggest_loguniform has been deprecated in v3.0.0. This feature will be removed in v6.0.0. See https://github.com/optuna/optuna/releases/tag/v3.0.0. Use suggest_float(..., log=True) instead.\n",
            "  gamma = trial.suggest_loguniform('gamma', 1e-4, 1e1)\n",
            "[I 2024-04-22 12:50:26,100] Trial 48 finished with value: 1.0 and parameters: {'kernel': 'rbf', 'C': 3963.7474299284527, 'gamma': 0.00011000223369321461}. Best is trial 0 with value: 1.0.\n",
            "<ipython-input-7-7785bead97cc>:8: FutureWarning: suggest_loguniform has been deprecated in v3.0.0. This feature will be removed in v6.0.0. See https://github.com/optuna/optuna/releases/tag/v3.0.0. Use suggest_float(..., log=True) instead.\n",
            "  C = trial.suggest_loguniform('C', 1e-4, 1e4)\n",
            "[I 2024-04-22 12:50:28,987] Trial 49 finished with value: 0.99899218946838 and parameters: {'kernel': 'linear', 'C': 0.00045739022472549837}. Best is trial 0 with value: 1.0.\n"
          ]
        },
        {
          "output_type": "stream",
          "name": "stdout",
          "text": [
            "Best hyperparameters:  {'kernel': 'linear', 'C': 0.1785379499667778}\n"
          ]
        }
      ]
    },
    {
      "cell_type": "code",
      "source": [
        "# to find the best hyperparameters for nn\n",
        "\n",
        "def objective(trial):\n",
        "    # Define the hyperparameters to tune\n",
        "    lr = trial.suggest_loguniform('lr', 1e-5, 1e-1)\n",
        "    num_layers = trial.suggest_int('num_layers', 1, 3)\n",
        "    num_units = trial.suggest_int('num_units', 50, 500)\n",
        "    dropout_rate = trial.suggest_uniform('dropout_rate', 0.0, 0.5)\n",
        "    decay = trial.suggest_uniform('decay', 0.8, 0.999)  # Learning rate decay\n",
        "    num_epochs = trial.suggest_int('num_epochs', 10, 100)  # Dynamic number of epochs\n",
        "    batch_size = trial.suggest_int('batch_size', 8, 64)  # Dynamic batch size\n",
        "\n",
        "    # Model definition based on hyperparameters\n",
        "    model = nn.Sequential()\n",
        "    for i in range(num_layers):\n",
        "        model.add_module(f\"linear_{i}\", nn.Linear(in_features=768 if i == 0 else num_units, out_features=num_units))\n",
        "        model.add_module(f\"relu_{i}\", nn.ReLU())\n",
        "        model.add_module(f\"dropout_{i}\", nn.Dropout(p=dropout_rate))\n",
        "    model.add_module(\"output\", nn.Linear(in_features=num_units, out_features=len(set(y))))\n",
        "    model.add_module(\"softmax\", nn.LogSoftmax(dim=1))\n",
        "\n",
        "    optimizer = optim.Adam(model.parameters(), lr=lr)\n",
        "    criterion = LabelSmoothingCrossEntropy(smoothing=0.1)\n",
        "    scheduler = ExponentialLR(optimizer, gamma = decay) # to update lerning rate\n",
        "\n",
        "    # Training loop\n",
        "    for epoch in range(num_epochs):\n",
        "      for inputs, labels in train_loader:\n",
        "        optimizer.zero_grad()\n",
        "        outputs = model(inputs)\n",
        "        loss = criterion(outputs, labels)\n",
        "        loss.backward()\n",
        "        optimizer.step()\n",
        "      scheduler.step()\n",
        "      # to evaluate\n",
        "    model.eval()\n",
        "    with torch.no_grad():\n",
        "        X_test_tensor = torch.FloatTensor(X_test)\n",
        "        y_test_tensor = torch.LongTensor(y_test)\n",
        "        outputs = model(X_test_tensor)\n",
        "        loss = criterion(outputs, y_test_tensor)\n",
        "    return loss.item()\n",
        "\n",
        "study = optuna.create_study(direction='minimize')\n",
        "study.optimize(objective, n_trials=100)  # Run 100 different trials\n",
        "\n",
        "print(\"Best hyperparameters: \", study.best_params)"
      ],
      "metadata": {
        "id": "3xZphZ4I-QwU"
      },
      "execution_count": null,
      "outputs": []
    },
    {
      "cell_type": "code",
      "source": [
        "def evaluate_model(predict_model, test_loader):\n",
        "    predict_model.eval()\n",
        "    all_preds = []\n",
        "    all_labels = []\n",
        "    with torch.no_grad():\n",
        "        for inputs, labels in test_loader:\n",
        "            outputs = predict_model(inputs)\n",
        "            _, predicted = torch.max(outputs.data, 1)\n",
        "            all_preds.extend(predicted.cpu().numpy())\n",
        "            all_labels.extend(labels.cpu().numpy())\n",
        "\n",
        "    # Calculate metrics\n",
        "    precision = precision_score(all_labels, all_preds, average='macro')\n",
        "    recall = recall_score(all_labels, all_preds, average='macro')\n",
        "    f1 = f1_score(all_labels, all_preds, average='macro')\n",
        "    accuracy = accuracy_score(all_labels, all_preds)\n",
        "    class_report = classification_report(all_labels, all_preds)\n",
        "    print(\"Classification Report:\\n\", class_report)\n",
        "\n",
        "# Confusion Matrix\n",
        "    conf_matrix = confusion_matrix(all_labels, all_preds)\n",
        "    print(\"Confusion Matrix:\\n\", conf_matrix)\n",
        "\n",
        "    print(f'Precision: {precision:.4f}')\n",
        "    print(f'Recall: {recall:.4f}')\n",
        "    print(f'F1 Score: {f1:.4f}')\n",
        "    print(f'Accuracy: {accuracy:.4f}')\n",
        "\n",
        "# Create test_loader with correct configurations similar to train_loader\n",
        "test_loader = DataLoader(TensorDataset(torch.FloatTensor(X_test), torch.LongTensor(y_test)), batch_size=64, shuffle=False)\n",
        "\n",
        "# Evaluate the model\n",
        "evaluate_model(trained_model, test_loader)\n"
      ],
      "metadata": {
        "colab": {
          "base_uri": "https://localhost:8080/"
        },
        "id": "TLu8jjGeTXEO",
        "outputId": "d9056807-85a7-4f1d-c6ff-aa2c8c9fbf35"
      },
      "execution_count": null,
      "outputs": [
        {
          "output_type": "stream",
          "name": "stdout",
          "text": [
            "Classification Report:\n",
            "               precision    recall  f1-score   support\n",
            "\n",
            "           0       1.00      1.00      1.00        29\n",
            "           1       1.00      1.00      1.00        25\n",
            "           2       1.00      1.00      1.00        29\n",
            "           3       1.00      1.00      1.00        26\n",
            "           4       1.00      1.00      1.00        24\n",
            "           5       1.00      1.00      1.00        29\n",
            "           6       1.00      1.00      1.00        21\n",
            "           7       1.00      1.00      1.00        20\n",
            "           8       1.00      1.00      1.00        24\n",
            "           9       1.00      1.00      1.00        20\n",
            "          10       1.00      1.00      1.00        29\n",
            "          11       1.00      1.00      1.00        21\n",
            "          12       1.00      1.00      1.00        18\n",
            "          13       1.00      1.00      1.00        25\n",
            "          14       1.00      1.00      1.00        22\n",
            "          15       1.00      1.00      1.00        31\n",
            "          16       1.00      1.00      1.00        24\n",
            "          17       1.00      1.00      1.00        25\n",
            "          18       1.00      1.00      1.00        25\n",
            "          19       1.00      1.00      1.00        24\n",
            "          20       1.00      1.00      1.00        23\n",
            "          21       1.00      1.00      1.00        25\n",
            "          22       1.00      1.00      1.00        28\n",
            "          23       1.00      1.00      1.00        20\n",
            "          24       1.00      1.00      1.00        31\n",
            "          25       1.00      1.00      1.00        20\n",
            "          26       1.00      1.00      1.00        23\n",
            "          27       1.00      1.00      1.00        27\n",
            "          28       1.00      1.00      1.00        20\n",
            "          29       1.00      1.00      1.00        16\n",
            "          30       1.00      1.00      1.00        20\n",
            "          31       1.00      1.00      1.00        18\n",
            "          32       1.00      1.00      1.00        26\n",
            "          33       1.00      1.00      1.00        26\n",
            "          34       1.00      1.00      1.00        27\n",
            "          35       1.00      1.00      1.00        29\n",
            "          36       1.00      1.00      1.00        28\n",
            "          37       1.00      1.00      1.00        29\n",
            "          38       1.00      1.00      1.00        22\n",
            "          39       1.00      1.00      1.00        24\n",
            "          40       1.00      1.00      1.00        20\n",
            "\n",
            "    accuracy                           1.00       993\n",
            "   macro avg       1.00      1.00      1.00       993\n",
            "weighted avg       1.00      1.00      1.00       993\n",
            "\n",
            "Confusion Matrix:\n",
            " [[29  0  0 ...  0  0  0]\n",
            " [ 0 25  0 ...  0  0  0]\n",
            " [ 0  0 29 ...  0  0  0]\n",
            " ...\n",
            " [ 0  0  0 ... 22  0  0]\n",
            " [ 0  0  0 ...  0 24  0]\n",
            " [ 0  0  0 ...  0  0 20]]\n",
            "Precision: 1.0000\n",
            "Recall: 1.0000\n",
            "F1 Score: 1.0000\n",
            "Accuracy: 1.0000\n"
          ]
        }
      ]
    },
    {
      "cell_type": "code",
      "source": [
        "embeddings_database = np.stack(data_frame['embeddings'].values)  # Stack embeddings into a matrix\n",
        "symptoms_db = data_frame['symptom_description'].tolist()  # List of all symptom descriptions\n"
      ],
      "metadata": {
        "id": "kNUUK4Qpiiqx"
      },
      "execution_count": null,
      "outputs": []
    },
    {
      "cell_type": "code",
      "source": [
        "# Load your model and the explainer\n",
        "explainer = shap.GradientExplainer(predict_model, data=X_train_tensor)  # Use a subset of training data to initialize\n",
        "shap_values = explainer.shap_values(X_test_tensor[0:1])  # Explain a single prediction\n",
        "pyplot(shap.summary_plot(shap_values, X_test_tensor[0:1]))\n"
      ],
      "metadata": {
        "id": "726-vZEAiXiy",
        "colab": {
          "base_uri": "https://localhost:8080/",
          "height": 681
        },
        "outputId": "6fc458ce-bde9-4b08-da05-80ce00bc0423"
      },
      "execution_count": null,
      "outputs": [
        {
          "output_type": "display_data",
          "data": {
            "text/plain": [
              "<Figure size 1150x660 with 7 Axes>"
            ],
            "image/png": "[encoded data removed]"
          },
          "metadata": {}
        },
        {
          "output_type": "execute_result",
          "data": {
            "text/plain": [
              "DeltaGenerator()"
            ]
          },
          "metadata": {},
          "execution_count": 35
        },
        {
          "output_type": "display_data",
          "data": {
            "text/plain": [
              "<Figure size 640x480 with 0 Axes>"
            ]
          },
          "metadata": {}
        }
      ]
    },
    {
      "cell_type": "code",
      "source": [
        "def semantic_search(input_embedding, embeddings_database, top_k=1):\n",
        "    # Calculate cosine similarities\n",
        "    similarities = np.dot(embeddings_database, input_embedding) / (np.linalg.norm(embeddings_database, axis=1) * np.linalg.norm(input_embedding))\n",
        "    # Get top_k indices with highest similarity\n",
        "    top_k_indices = np.argsort(similarities)[-top_k:][::-1]\n",
        "    return top_k_indices\n"
      ],
      "metadata": {
        "id": "YiqneieDipYg"
      },
      "execution_count": null,
      "outputs": []
    },
    {
      "cell_type": "code",
      "source": [
        "explainer = shap.GradientExplainer(predict_model, torch.FloatTensor(embeddings_database[:100]))  # Using first 100 entries for initialization"
      ],
      "metadata": {
        "id": "QgwGt3tgbU-n"
      },
      "execution_count": null,
      "outputs": []
    },
    {
      "cell_type": "code",
      "source": [
        "# Function to convert a matplotlib figure to a Tkinter image\n",
        "def fig_to_img(fig):\n",
        "    # Save the plot to a PNG in memory\n",
        "    fig.savefig('temp_plot.png', bbox_inches='tight')\n",
        "    # Open this image in PIL\n",
        "    pil_img = Image.open('temp_plot.png')\n",
        "    # Convert to Tkinter format\n",
        "    tk_img = ImageTk.PhotoImage(pil_img)\n",
        "    return tk_img"
      ],
      "metadata": {
        "id": "u5Jj-kvJk08m"
      },
      "execution_count": null,
      "outputs": []
    },
    {
      "cell_type": "code",
      "source": [
        "import tkinter as tk\n",
        "from tkinter import messagebox, Label\n",
        "from matplotlib.backends.backend_tkagg import FigureCanvasTkAgg\n",
        "from PIL import Image, ImageTk"
      ],
      "metadata": {
        "id": "VrYSMjC-iLgH"
      },
      "execution_count": null,
      "outputs": []
    },
    {
      "cell_type": "code",
      "source": [
        "# Tkinter app setup\n",
        "app = tk.Tk()\n",
        "app.title(\"Disease Predictor\")\n",
        "\n",
        "# Input field for symptoms\n",
        "symptoms_label = tk.Label(app, text=\"Enter symptoms:\")\n",
        "symptoms_label.pack()\n",
        "symptoms_entry = tk.Entry(app, width=50)\n",
        "symptoms_entry.pack()\n",
        "\n",
        "# plotting grap from shap\n",
        "image_label = Label(app)  # We'll update this with the plot images later\n",
        "image_label.pack()\n",
        "\n",
        "\n",
        "# Function to handle the 'Diagnose' action\n",
        "def on_diagnose():\n",
        "    symptoms = symptoms_entry.get()\n",
        "    embedding = generate_embeddings(symptoms)\n",
        "    top_matches = semantic_search(embedding, embeddings_database=None, top_k=1)[0]\n",
        "    closest_symptom = symptoms_db[top_matches[0]]\n",
        "    closest_embedding = embeddings_database[top_matches[0]]\n",
        "\n",
        "    embedding_tensor = torch.FloatTensor([closest_embedding])\n",
        "    prediction = predict_model(embedding_tensor)\n",
        "    disease = label_encoder.inverse_transform([prediction.argmax().item()])[0]  # Convert index to disease label\n",
        "    messagebox.showinfo(\"Prediction\", f\"Predicted Disease: {disease}\")\n",
        "    messagebox.showinfo(\"Top Results\",f\"closest match Disease: {closest_symptom}\")\n",
        "\n",
        "# Button to trigger diagnosis\n",
        "diagnose_button = tk.Button(app, text=\"Diagnose\", command=on_diagnose)\n",
        "diagnose_button.pack()\n",
        "\n",
        "# Function to handle the 'Show explanation' action\n",
        "def on_explain():\n",
        "    embedding_tensor = torch.FloatTensor([generate_embeddings(symptoms_entry.get())])\n",
        "    shap_values = explainer.shap_values(embedding_tensor)\n",
        "  # Create a SHAP plot\n",
        "    fig = shap.summary_plot(shap_values, embedding_tensor.numpy(), show=False)\n",
        "\n",
        "    # Convert to image and update the image_label\n",
        "    tk_img = fig_to_img(fig)\n",
        "    image_label.config(image=tk_img)\n",
        "    image_label.image = tk_img  # Keep a reference!\n",
        "\n",
        "explain_button = tk.Button(app, text=\"Show explanation\", command=on_explain)\n",
        "explain_button.pack()"
      ],
      "metadata": {
        "colab": {
          "base_uri": "https://localhost:8080/",
          "height": 332
        },
        "id": "4iFPSzhHiGvb",
        "outputId": "e5715f6c-84f4-4464-cf49-e36da4662584"
      },
      "execution_count": null,
      "outputs": [
        {
          "output_type": "error",
          "ename": "TclError",
          "evalue": "no display name and no $DISPLAY environment variable",
          "traceback": [
            "\u001b[0;31m---------------------------------------------------------------------------\u001b[0m",
            "\u001b[0;31mTclError\u001b[0m                                  Traceback (most recent call last)",
            "\u001b[0;32m<ipython-input-49-a4e6b5b6d58d>\u001b[0m in \u001b[0;36m<cell line: 2>\u001b[0;34m()\u001b[0m\n\u001b[1;32m      1\u001b[0m \u001b[0;31m# Tkinter app setup\u001b[0m\u001b[0;34m\u001b[0m\u001b[0;34m\u001b[0m\u001b[0m\n\u001b[0;32m----> 2\u001b[0;31m \u001b[0mapp\u001b[0m \u001b[0;34m=\u001b[0m \u001b[0mtk\u001b[0m\u001b[0;34m.\u001b[0m\u001b[0mTk\u001b[0m\u001b[0;34m(\u001b[0m\u001b[0;34m)\u001b[0m\u001b[0;34m\u001b[0m\u001b[0;34m\u001b[0m\u001b[0m\n\u001b[0m\u001b[1;32m      3\u001b[0m \u001b[0mapp\u001b[0m\u001b[0;34m.\u001b[0m\u001b[0mtitle\u001b[0m\u001b[0;34m(\u001b[0m\u001b[0;34m\"Disease Predictor\"\u001b[0m\u001b[0;34m)\u001b[0m\u001b[0;34m\u001b[0m\u001b[0;34m\u001b[0m\u001b[0m\n\u001b[1;32m      4\u001b[0m \u001b[0;34m\u001b[0m\u001b[0m\n\u001b[1;32m      5\u001b[0m \u001b[0;31m# Input field for symptoms\u001b[0m\u001b[0;34m\u001b[0m\u001b[0;34m\u001b[0m\u001b[0m\n",
            "\u001b[0;32m/usr/lib/python3.10/tkinter/__init__.py\u001b[0m in \u001b[0;36m__init__\u001b[0;34m(self, screenName, baseName, className, useTk, sync, use)\u001b[0m\n\u001b[1;32m   2297\u001b[0m                 \u001b[0mbaseName\u001b[0m \u001b[0;34m=\u001b[0m \u001b[0mbaseName\u001b[0m \u001b[0;34m+\u001b[0m \u001b[0mext\u001b[0m\u001b[0;34m\u001b[0m\u001b[0;34m\u001b[0m\u001b[0m\n\u001b[1;32m   2298\u001b[0m         \u001b[0minteractive\u001b[0m \u001b[0;34m=\u001b[0m \u001b[0;32mFalse\u001b[0m\u001b[0;34m\u001b[0m\u001b[0;34m\u001b[0m\u001b[0m\n\u001b[0;32m-> 2299\u001b[0;31m         \u001b[0mself\u001b[0m\u001b[0;34m.\u001b[0m\u001b[0mtk\u001b[0m \u001b[0;34m=\u001b[0m \u001b[0m_tkinter\u001b[0m\u001b[0;34m.\u001b[0m\u001b[0mcreate\u001b[0m\u001b[0;34m(\u001b[0m\u001b[0mscreenName\u001b[0m\u001b[0;34m,\u001b[0m \u001b[0mbaseName\u001b[0m\u001b[0;34m,\u001b[0m \u001b[0mclassName\u001b[0m\u001b[0;34m,\u001b[0m \u001b[0minteractive\u001b[0m\u001b[0;34m,\u001b[0m \u001b[0mwantobjects\u001b[0m\u001b[0;34m,\u001b[0m \u001b[0museTk\u001b[0m\u001b[0;34m,\u001b[0m \u001b[0msync\u001b[0m\u001b[0;34m,\u001b[0m \u001b[0muse\u001b[0m\u001b[0;34m)\u001b[0m\u001b[0;34m\u001b[0m\u001b[0;34m\u001b[0m\u001b[0m\n\u001b[0m\u001b[1;32m   2300\u001b[0m         \u001b[0;32mif\u001b[0m \u001b[0museTk\u001b[0m\u001b[0;34m:\u001b[0m\u001b[0;34m\u001b[0m\u001b[0;34m\u001b[0m\u001b[0m\n\u001b[1;32m   2301\u001b[0m             \u001b[0mself\u001b[0m\u001b[0;34m.\u001b[0m\u001b[0m_loadtk\u001b[0m\u001b[0;34m(\u001b[0m\u001b[0;34m)\u001b[0m\u001b[0;34m\u001b[0m\u001b[0;34m\u001b[0m\u001b[0m\n",
            "\u001b[0;31mTclError\u001b[0m: no display name and no $DISPLAY environment variable"
          ]
        }
      ]
    },
    {
      "cell_type": "markdown",
      "source": [
        "The code below were created during testing and does not add to the whole system"
      ],
      "metadata": {
        "id": "h9PeQcmIbxh2"
      }
    },
    {
      "cell_type": "code",
      "source": [
        "import matplotlib.pyplot as plt\n",
        "import seaborn as sns\n",
        "from sklearn.metrics import confusion_matrix, precision_recall_fscore_support\n",
        "\n",
        "# Function to calculate metrics and generate confusion matrix\n",
        "def calculate_metrics(y_true, y_pred):\n",
        "    precision, recall, f1, _ = precision_recall_fscore_support(y_true, y_pred, average='macro')\n",
        "    conf_matrix = confusion_matrix(y_true, y_pred)\n",
        "    return precision, recall, f1, conf_matrix\n",
        "\n",
        "# Function to plot metrics and confusion matrix\n",
        "def plot_results(results, title_prefix=''):\n",
        "    fig, axs = plt.subplots(len(results), 2, figsize=(10, 5 * len(results)))\n",
        "    if len(results) == 1:\n",
        "        axs = [axs]\n",
        "\n",
        "    for idx, (noise_level, metrics) in enumerate(sorted(results.items())):\n",
        "        # Unpack metrics\n",
        "        svm_metrics, nn_metrics = zip(*metrics)\n",
        "        svm_accuracy = [m[0] for m in svm_metrics]\n",
        "        nn_accuracy = [m[1] for m in nn_metrics]\n",
        "\n",
        "        # Plot accuracy\n",
        "        axs[idx][0].plot(svm_accuracy, label='SVM Accuracy')\n",
        "        axs[idx][0].plot(nn_accuracy, label='NN Accuracy')\n",
        "        axs[idx][0].set_title(f'{title_prefix}Accuracy at Noise Level: {noise_level}')\n",
        "        axs[idx][0].set_xlabel('Fold Number')\n",
        "        axs[idx][0].set_ylabel('Accuracy')\n",
        "        axs[idx][0].legend()\n",
        "\n",
        "        # Calculate average confusion matrix for Neural Network\n",
        "        nn_conf_matrices = [calculate_metrics(y_test, m[2])[3] for m in nn_metrics]\n",
        "        avg_conf_matrix = np.mean(nn_conf_matrices, axis=0)\n",
        "\n",
        "        # Plot confusion matrix\n",
        "        sns.heatmap(avg_conf_matrix, annot=True, fmt=\".0f\", ax=axs[idx][1], cmap='Blues')\n",
        "        axs[idx][1].set_title(f'{title_prefix}Average Confusion Matrix (NN) at Noise Level: {noise_level}')\n",
        "        axs[idx][1].set_xlabel('Predicted Label')\n",
        "        axs[idx][1].set_ylabel('True Label')\n",
        "\n",
        "    plt.tight_layout()\n",
        "    plt.show()\n",
        "# Prepare Cross Validation\n",
        "def prepare_cv(data_frame, n_splits=5):\n",
        "    skf = StratifiedKFold(n_splits=n_splits, shuffle=True, random_state=42)\n",
        "    labels = LabelEncoder().fit_transform(data_frame['prognosis'])\n",
        "    return skf.split(np.stack(data_frame['embeddings'].values), labels)\n",
        "\n",
        "# Noise Addition\n",
        "def add_noise(data_frame, level=0.05):\n",
        "    noisy_data = data_frame.copy()\n",
        "    noise = np.random.normal(0, level, data_frame.shape)\n",
        "    noisy_data += noise\n",
        "    return noisy_data"
      ],
      "metadata": {
        "id": "F8VkT6_zOyMX"
      },
      "execution_count": null,
      "outputs": []
    },
    {
      "cell_type": "code",
      "source": [
        "# # Modifed the train_eval_models function to calculate additional metrics\n",
        "# def train_eval_models(data_frame, model, noise_levels=[0.0, 0.05, 0.1], n_splits=5):\n",
        "#     results = {}\n",
        "#     for noise_level in noise_levels:\n",
        "#         metrics_list = []\n",
        "#         noisy_embeddings = add_noise(np.stack(data_frame['embeddings'].values), noise_level)\n",
        "#         for train_idx, test_idx in prepare_cv(data_frame, n_splits):\n",
        "#             X_train, X_test = noisy_embeddings[train_idx], noisy_embeddings[test_idx]\n",
        "#             y_train, y_test = labels[train_idx], labels[test_idx]\n",
        "#             scaler = StandardScaler()\n",
        "#             X_train_scaled = scaler.fit_transform(X_train)\n",
        "#             X_test_scaled = scaler.transform(X_test)\n",
        "#             svm_model = svm.SVC(kernel='linear')\n",
        "#             svm_model.fit(X_train_scaled, y_train)\n",
        "#             y_pred_svm = svm_model.predict(X_test_scaled)\n",
        "#             svm_accuracy, svm_precision, svm_recall, svm_f1, _ = calculate_metrics(y_test, y_pred_svm)\n",
        "#             nn_model = DiseasePredictor()\n",
        "#             optimizer = optim.Adam(nn_model.parameters(), lr=0.001)\n",
        "#             criterion = nn.CrossEntropyLoss()\n",
        "#             dataset = TensorDataset(torch.tensor(X_train_scaled).float(), torch.tensor(y_train).long())\n",
        "#             loader = DataLoader(dataset, batch_size=64, shuffle=True)\n",
        "#             for epoch in range(10):  # Training loop\n",
        "#                 for inputs, labels in loader:\n",
        "#                     optimizer.zero_grad()\n",
        "#                     outputs = nn_model(inputs)\n",
        "#                     loss = criterion(outputs, labels)\n",
        "#                     loss.backward()\n",
        "#                     optimizer.step()\n",
        "#             nn_predictions = nn_model(torch.tensor(X_test_scaled).float()).argmax(1).numpy()\n",
        "#             nn_accuracy, nn_precision, nn_recall, nn_f1, _ = calculate_metrics(y_test, nn_predictions)\n",
        "#             metrics_list.append((svm_accuracy, nn_accuracy, y_test, nn_predictions))\n",
        "#         results[noise_level] = metrics_list\n",
        "#     return results\n",
        "\n",
        "\n"
      ],
      "metadata": {
        "id": "1ZFCOTuYEDiq"
      },
      "execution_count": null,
      "outputs": []
    },
    {
      "cell_type": "code",
      "source": [
        "# Example of running the enhanced script\n",
        "results = train_eval_models(data_frame, DiseasePredictor(), noise_levels=[0.0, 0.05, 0.1])\n",
        "plot_results(results, title_prefix='Experiment 1: ')"
      ],
      "metadata": {
        "colab": {
          "base_uri": "https://localhost:8080/",
          "height": 297
        },
        "id": "DqwYtfuKMuCj",
        "outputId": "69125153-fe05-4135-90b8-c11dacccfcee"
      },
      "execution_count": null,
      "outputs": [
        {
          "output_type": "error",
          "ename": "UnboundLocalError",
          "evalue": "local variable 'labels' referenced before assignment",
          "traceback": [
            "\u001b[0;31m---------------------------------------------------------------------------\u001b[0m",
            "\u001b[0;31mUnboundLocalError\u001b[0m                         Traceback (most recent call last)",
            "\u001b[0;32m<ipython-input-22-f1d4ac19bbb0>\u001b[0m in \u001b[0;36m<cell line: 2>\u001b[0;34m()\u001b[0m\n\u001b[1;32m      1\u001b[0m \u001b[0;31m# Example of running the enhanced script\u001b[0m\u001b[0;34m\u001b[0m\u001b[0;34m\u001b[0m\u001b[0m\n\u001b[0;32m----> 2\u001b[0;31m \u001b[0mresults\u001b[0m \u001b[0;34m=\u001b[0m \u001b[0mtrain_eval_models\u001b[0m\u001b[0;34m(\u001b[0m\u001b[0mdata_frame\u001b[0m\u001b[0;34m,\u001b[0m \u001b[0mDiseasePredictor\u001b[0m\u001b[0;34m(\u001b[0m\u001b[0;34m)\u001b[0m\u001b[0;34m,\u001b[0m \u001b[0mnoise_levels\u001b[0m\u001b[0;34m=\u001b[0m\u001b[0;34m[\u001b[0m\u001b[0;36m0.0\u001b[0m\u001b[0;34m,\u001b[0m \u001b[0;36m0.05\u001b[0m\u001b[0;34m,\u001b[0m \u001b[0;36m0.1\u001b[0m\u001b[0;34m]\u001b[0m\u001b[0;34m)\u001b[0m\u001b[0;34m\u001b[0m\u001b[0;34m\u001b[0m\u001b[0m\n\u001b[0m\u001b[1;32m      3\u001b[0m \u001b[0mplot_results\u001b[0m\u001b[0;34m(\u001b[0m\u001b[0mresults\u001b[0m\u001b[0;34m,\u001b[0m \u001b[0mtitle_prefix\u001b[0m\u001b[0;34m=\u001b[0m\u001b[0;34m'Experiment 1: '\u001b[0m\u001b[0;34m)\u001b[0m\u001b[0;34m\u001b[0m\u001b[0;34m\u001b[0m\u001b[0m\n",
            "\u001b[0;32m<ipython-input-21-feec2179acfa>\u001b[0m in \u001b[0;36mtrain_eval_models\u001b[0;34m(data_frame, model, noise_levels, n_splits)\u001b[0m\n\u001b[1;32m     62\u001b[0m         \u001b[0;32mfor\u001b[0m \u001b[0mtrain_idx\u001b[0m\u001b[0;34m,\u001b[0m \u001b[0mtest_idx\u001b[0m \u001b[0;32min\u001b[0m \u001b[0mprepare_cv\u001b[0m\u001b[0;34m(\u001b[0m\u001b[0mdata_frame\u001b[0m\u001b[0;34m,\u001b[0m \u001b[0mn_splits\u001b[0m\u001b[0;34m)\u001b[0m\u001b[0;34m:\u001b[0m\u001b[0;34m\u001b[0m\u001b[0;34m\u001b[0m\u001b[0m\n\u001b[1;32m     63\u001b[0m             \u001b[0mX_train\u001b[0m\u001b[0;34m,\u001b[0m \u001b[0mX_test\u001b[0m \u001b[0;34m=\u001b[0m \u001b[0mnoisy_embeddings\u001b[0m\u001b[0;34m[\u001b[0m\u001b[0mtrain_idx\u001b[0m\u001b[0;34m]\u001b[0m\u001b[0;34m,\u001b[0m \u001b[0mnoisy_embeddings\u001b[0m\u001b[0;34m[\u001b[0m\u001b[0mtest_idx\u001b[0m\u001b[0;34m]\u001b[0m\u001b[0;34m\u001b[0m\u001b[0;34m\u001b[0m\u001b[0m\n\u001b[0;32m---> 64\u001b[0;31m             \u001b[0my_train\u001b[0m\u001b[0;34m,\u001b[0m \u001b[0my_test\u001b[0m \u001b[0;34m=\u001b[0m \u001b[0mlabels\u001b[0m\u001b[0;34m[\u001b[0m\u001b[0mtrain_idx\u001b[0m\u001b[0;34m]\u001b[0m\u001b[0;34m,\u001b[0m \u001b[0mlabels\u001b[0m\u001b[0;34m[\u001b[0m\u001b[0mtest_idx\u001b[0m\u001b[0;34m]\u001b[0m\u001b[0;34m\u001b[0m\u001b[0;34m\u001b[0m\u001b[0m\n\u001b[0m\u001b[1;32m     65\u001b[0m             \u001b[0mscaler\u001b[0m \u001b[0;34m=\u001b[0m \u001b[0mStandardScaler\u001b[0m\u001b[0;34m(\u001b[0m\u001b[0;34m)\u001b[0m\u001b[0;34m\u001b[0m\u001b[0;34m\u001b[0m\u001b[0m\n\u001b[1;32m     66\u001b[0m             \u001b[0mX_train_scaled\u001b[0m \u001b[0;34m=\u001b[0m \u001b[0mscaler\u001b[0m\u001b[0;34m.\u001b[0m\u001b[0mfit_transform\u001b[0m\u001b[0;34m(\u001b[0m\u001b[0mX_train\u001b[0m\u001b[0;34m)\u001b[0m\u001b[0;34m\u001b[0m\u001b[0;34m\u001b[0m\u001b[0m\n",
            "\u001b[0;31mUnboundLocalError\u001b[0m: local variable 'labels' referenced before assignment"
          ]
        }
      ]
    },
    {
      "cell_type": "code",
      "source": [
        "#train_model()\n"
      ],
      "metadata": {
        "id": "IEfdqkXKDf5r"
      },
      "execution_count": null,
      "outputs": []
    },
    {
      "cell_type": "code",
      "source": [
        "import numpy as np\n",
        "\n",
        "# Function to add Gaussian noise\n",
        "def add_gaussian_noise(data, noise_level=0.01):\n",
        "    noise = np.random.normal(loc=0.0, scale=noise_level, size=data.shape)\n",
        "    return data + noise\n",
        "\n",
        "# Add noise to the original scaled data\n",
        "noise_level = 0.05  # 5% of the data scale\n",
        "X_noisy = add_gaussian_noise(X_scaled, noise_level=noise_level)\n",
        "\n",
        "# Split noisy data\n",
        "X_train_noisy, X_test_noisy, y_train_noisy, y_test_noisy = train_test_split(X_noisy, y_encoded, test_size=0.2, random_state=42)\n",
        "\n",
        "# Retrain SVM with linear kernel on noisy data\n",
        "svm_model_noisy = svm.SVC(kernel='linear')\n",
        "svm_model_noisy.fit(X_train_noisy, y_train_noisy)\n",
        "y_pred_noisy = svm_model_noisy.predict(X_test_noisy)\n",
        "\n",
        "# Evaluate the noisy model\n",
        "accuracy_noisy = accuracy_score(y_test_noisy, y_pred_noisy)\n",
        "classification_rep_noisy = classification_report(y_test_noisy, y_pred_noisy)\n",
        "\n",
        "# Test SVM with RBF kernel on both original and noisy data\n",
        "svm_model_rbf = svm.SVC(kernel='rbf')\n",
        "svm_model_rbf.fit(X_train, y_train)\n",
        "y_pred_rbf = svm_model_rbf.predict(X_test)\n",
        "\n",
        "svm_model_rbf_noisy = svm.SVC(kernel='rbf')\n",
        "svm_model_rbf_noisy.fit(X_train_noisy, y_train_noisy)\n",
        "y_pred_rbf_noisy = svm_model_rbf_noisy.predict(X_test_noisy)\n",
        "\n",
        "# Evaluate RBF model on clean data\n",
        "accuracy_rbf = accuracy_score(y_test, y_pred_rbf)\n",
        "classification_rep_rbf = classification_report(y_test, y_pred_rbf)\n",
        "\n",
        "# Evaluate RBF model on noisy data\n",
        "accuracy_rbf_noisy = accuracy_score(y_test_noisy, y_pred_rbf_noisy)\n",
        "classification_rep_rbf_noisy = classification_report(y_test_noisy, y_pred_rbf_noisy)\n",
        "\n",
        "# Collect all results for comparison\n",
        "results = {\n",
        "    \"Linear SVM on Noisy Data\": (accuracy_noisy, classification_rep_noisy),\n",
        "    \"RBF SVM on Clean Data\": (accuracy_rbf, classification_rep_rbf),\n",
        "    \"RBF SVM on Noisy Data\": (accuracy_rbf_noisy, classification_rep_rbf_noisy)\n",
        "}\n",
        "\n",
        "results\n"
      ],
      "metadata": {
        "id": "NFgVtKZqKJ_y"
      },
      "execution_count": null,
      "outputs": []
    },
    {
      "cell_type": "markdown",
      "source": [
        "jfhzs [I 2024-04-20 23:02:52,281] Trial 83 finished with value: 0.6940219402313232 and parameters: {'lr': 0.0006312703277951093, 'num_layers': 3, 'num_units': 462, 'dropout_rate': 0.0015024972313569286, 'decay': 0.9053013456459507, 'num_epochs': 55, 'batch_size': 12}. Best is trial 83 with value: 0.6940219402313232.\n"
      ],
      "metadata": {
        "id": "hppWldc41aDx"
      }
    },
    {
      "cell_type": "markdown",
      "source": [
        "Best hyperparameters:  {'lr': 0.0006312703277951093, 'num_layers': 3, 'num_units': 462, 'dropout_rate': 0.0015024972313569286, 'decay': 0.9053013456459507, 'num_epochs': 55, 'batch_size': 12}\n",
        "\n"
      ],
      "metadata": {
        "id": "M-zT01BM1kUh"
      }
    },
    {
      "cell_type": "markdown",
      "source": [],
      "metadata": {
        "id": "ff4FG7oWnuiQ"
      }
    },
    {
      "cell_type": "code",
      "source": [
        "# Cluster embeddings dimensions\n",
        "kmeans = KMeans(n_clusters=10, random_state=0).fit(embeddings_database)\n",
        "clusters = kmeans.labels_\n",
        "\n",
        "# Use GPT-Neo to describe each cluster\n",
        "gpt_model = GPT2LMHeadModel.from_pretrained('gpt2')\n",
        "gpt_tokenizer = GPT2Tokenizer.from_pretrained('gpt2')"
      ],
      "metadata": {
        "colab": {
          "base_uri": "https://localhost:8080/"
        },
        "id": "fE70-n8Sa7rY",
        "outputId": "f3618259-b89f-4b2e-dfa1-a184f69d5481"
      },
      "execution_count": null,
      "outputs": [
        {
          "output_type": "stream",
          "name": "stderr",
          "text": [
            "/usr/local/lib/python3.10/dist-packages/sklearn/cluster/_kmeans.py:870: FutureWarning: The default value of `n_init` will change from 10 to 'auto' in 1.4. Set the value of `n_init` explicitly to suppress the warning\n",
            "  warnings.warn(\n"
          ]
        }
      ]
    },
    {
      "cell_type": "markdown",
      "source": [
        "this part is still under evaluation on where to use it in final application or not"
      ],
      "metadata": {
        "id": "73e52iMvnoPG"
      }
    },
    {
      "cell_type": "code",
      "source": [
        "\n",
        "def describe_cluster(index):\n",
        "    cluster_center = kmeans.cluster_centers_[index]\n",
        "    prompt = f\"Describe the following data characteristics in simple terms: {cluster_center.tolist()}\"\n",
        "    inputs = gpt_tokenizer.encode(prompt, return_tensors='pt')\n",
        "    outputs = gpt_model.generate(inputs, max_length= 9000, num_return_sequences=1)\n",
        "    return gpt_tokenizer.decode(outputs[0], skip_special_tokens=True)\n",
        "\n",
        "cluster_descriptions = [describe_cluster(i) for i in range(10)]\n"
      ],
      "metadata": {
        "id": "KEsxcJMHyYJv",
        "colab": {
          "base_uri": "https://localhost:8080/",
          "height": 393
        },
        "outputId": "327b89b9-4769-41e3-bd3e-95bbacd7337e"
      },
      "execution_count": null,
      "outputs": [
        {
          "output_type": "stream",
          "name": "stderr",
          "text": [
            "The attention mask and the pad token id were not set. As a consequence, you may observe unexpected behavior. Please pass your input's `attention_mask` to obtain reliable results.\n",
            "Setting `pad_token_id` to `eos_token_id`:50256 for open-end generation.\n"
          ]
        },
        {
          "output_type": "error",
          "ename": "IndexError",
          "evalue": "index out of range in self",
          "traceback": [
            "\u001b[0;31m---------------------------------------------------------------------------\u001b[0m",
            "\u001b[0;31mIndexError\u001b[0m                                Traceback (most recent call last)",
            "\u001b[0;32m<ipython-input-25-41a05e45a19e>\u001b[0m in \u001b[0;36m<cell line: 8>\u001b[0;34m()\u001b[0m\n\u001b[1;32m      6\u001b[0m     \u001b[0;32mreturn\u001b[0m \u001b[0mgpt_tokenizer\u001b[0m\u001b[0;34m.\u001b[0m\u001b[0mdecode\u001b[0m\u001b[0;34m(\u001b[0m\u001b[0moutputs\u001b[0m\u001b[0;34m[\u001b[0m\u001b[0;36m0\u001b[0m\u001b[0;34m]\u001b[0m\u001b[0;34m,\u001b[0m \u001b[0mskip_special_tokens\u001b[0m\u001b[0;34m=\u001b[0m\u001b[0;32mTrue\u001b[0m\u001b[0;34m)\u001b[0m\u001b[0;34m\u001b[0m\u001b[0;34m\u001b[0m\u001b[0m\n\u001b[1;32m      7\u001b[0m \u001b[0;34m\u001b[0m\u001b[0m\n\u001b[0;32m----> 8\u001b[0;31m \u001b[0mcluster_descriptions\u001b[0m \u001b[0;34m=\u001b[0m \u001b[0;34m[\u001b[0m\u001b[0mdescribe_cluster\u001b[0m\u001b[0;34m(\u001b[0m\u001b[0mi\u001b[0m\u001b[0;34m)\u001b[0m \u001b[0;32mfor\u001b[0m \u001b[0mi\u001b[0m \u001b[0;32min\u001b[0m \u001b[0mrange\u001b[0m\u001b[0;34m(\u001b[0m\u001b[0;36m10\u001b[0m\u001b[0;34m)\u001b[0m\u001b[0;34m]\u001b[0m\u001b[0;34m\u001b[0m\u001b[0;34m\u001b[0m\u001b[0m\n\u001b[0m",
            "\u001b[0;32m<ipython-input-25-41a05e45a19e>\u001b[0m in \u001b[0;36m<listcomp>\u001b[0;34m(.0)\u001b[0m\n\u001b[1;32m      6\u001b[0m     \u001b[0;32mreturn\u001b[0m \u001b[0mgpt_tokenizer\u001b[0m\u001b[0;34m.\u001b[0m\u001b[0mdecode\u001b[0m\u001b[0;34m(\u001b[0m\u001b[0moutputs\u001b[0m\u001b[0;34m[\u001b[0m\u001b[0;36m0\u001b[0m\u001b[0;34m]\u001b[0m\u001b[0;34m,\u001b[0m \u001b[0mskip_special_tokens\u001b[0m\u001b[0;34m=\u001b[0m\u001b[0;32mTrue\u001b[0m\u001b[0;34m)\u001b[0m\u001b[0;34m\u001b[0m\u001b[0;34m\u001b[0m\u001b[0m\n\u001b[1;32m      7\u001b[0m \u001b[0;34m\u001b[0m\u001b[0m\n\u001b[0;32m----> 8\u001b[0;31m \u001b[0mcluster_descriptions\u001b[0m \u001b[0;34m=\u001b[0m \u001b[0;34m[\u001b[0m\u001b[0mdescribe_cluster\u001b[0m\u001b[0;34m(\u001b[0m\u001b[0mi\u001b[0m\u001b[0;34m)\u001b[0m \u001b[0;32mfor\u001b[0m \u001b[0mi\u001b[0m \u001b[0;32min\u001b[0m \u001b[0mrange\u001b[0m\u001b[0;34m(\u001b[0m\u001b[0;36m10\u001b[0m\u001b[0;34m)\u001b[0m\u001b[0;34m]\u001b[0m\u001b[0;34m\u001b[0m\u001b[0;34m\u001b[0m\u001b[0m\n\u001b[0m",
            "\u001b[0;32m<ipython-input-25-41a05e45a19e>\u001b[0m in \u001b[0;36mdescribe_cluster\u001b[0;34m(index)\u001b[0m\n\u001b[1;32m      3\u001b[0m     \u001b[0mprompt\u001b[0m \u001b[0;34m=\u001b[0m \u001b[0;34mf\"Describe the following data characteristics in simple terms: {cluster_center.tolist()}\"\u001b[0m\u001b[0;34m\u001b[0m\u001b[0;34m\u001b[0m\u001b[0m\n\u001b[1;32m      4\u001b[0m     \u001b[0minputs\u001b[0m \u001b[0;34m=\u001b[0m \u001b[0mgpt_tokenizer\u001b[0m\u001b[0;34m.\u001b[0m\u001b[0mencode\u001b[0m\u001b[0;34m(\u001b[0m\u001b[0mprompt\u001b[0m\u001b[0;34m,\u001b[0m \u001b[0mreturn_tensors\u001b[0m\u001b[0;34m=\u001b[0m\u001b[0;34m'pt'\u001b[0m\u001b[0;34m)\u001b[0m\u001b[0;34m\u001b[0m\u001b[0;34m\u001b[0m\u001b[0m\n\u001b[0;32m----> 5\u001b[0;31m     \u001b[0moutputs\u001b[0m \u001b[0;34m=\u001b[0m \u001b[0mgpt_model\u001b[0m\u001b[0;34m.\u001b[0m\u001b[0mgenerate\u001b[0m\u001b[0;34m(\u001b[0m\u001b[0minputs\u001b[0m\u001b[0;34m,\u001b[0m \u001b[0mmax_length\u001b[0m\u001b[0;34m=\u001b[0m \u001b[0;36m9000\u001b[0m\u001b[0;34m,\u001b[0m \u001b[0mnum_return_sequences\u001b[0m\u001b[0;34m=\u001b[0m\u001b[0;36m1\u001b[0m\u001b[0;34m)\u001b[0m\u001b[0;34m\u001b[0m\u001b[0;34m\u001b[0m\u001b[0m\n\u001b[0m\u001b[1;32m      6\u001b[0m     \u001b[0;32mreturn\u001b[0m \u001b[0mgpt_tokenizer\u001b[0m\u001b[0;34m.\u001b[0m\u001b[0mdecode\u001b[0m\u001b[0;34m(\u001b[0m\u001b[0moutputs\u001b[0m\u001b[0;34m[\u001b[0m\u001b[0;36m0\u001b[0m\u001b[0;34m]\u001b[0m\u001b[0;34m,\u001b[0m \u001b[0mskip_special_tokens\u001b[0m\u001b[0;34m=\u001b[0m\u001b[0;32mTrue\u001b[0m\u001b[0;34m)\u001b[0m\u001b[0;34m\u001b[0m\u001b[0;34m\u001b[0m\u001b[0m\n\u001b[1;32m      7\u001b[0m \u001b[0;34m\u001b[0m\u001b[0m\n",
            "\u001b[0;32m/usr/local/lib/python3.10/dist-packages/torch/utils/_contextlib.py\u001b[0m in \u001b[0;36mdecorate_context\u001b[0;34m(*args, **kwargs)\u001b[0m\n\u001b[1;32m    113\u001b[0m     \u001b[0;32mdef\u001b[0m \u001b[0mdecorate_context\u001b[0m\u001b[0;34m(\u001b[0m\u001b[0;34m*\u001b[0m\u001b[0margs\u001b[0m\u001b[0;34m,\u001b[0m \u001b[0;34m**\u001b[0m\u001b[0mkwargs\u001b[0m\u001b[0;34m)\u001b[0m\u001b[0;34m:\u001b[0m\u001b[0;34m\u001b[0m\u001b[0;34m\u001b[0m\u001b[0m\n\u001b[1;32m    114\u001b[0m         \u001b[0;32mwith\u001b[0m \u001b[0mctx_factory\u001b[0m\u001b[0;34m(\u001b[0m\u001b[0;34m)\u001b[0m\u001b[0;34m:\u001b[0m\u001b[0;34m\u001b[0m\u001b[0;34m\u001b[0m\u001b[0m\n\u001b[0;32m--> 115\u001b[0;31m             \u001b[0;32mreturn\u001b[0m \u001b[0mfunc\u001b[0m\u001b[0;34m(\u001b[0m\u001b[0;34m*\u001b[0m\u001b[0margs\u001b[0m\u001b[0;34m,\u001b[0m \u001b[0;34m**\u001b[0m\u001b[0mkwargs\u001b[0m\u001b[0;34m)\u001b[0m\u001b[0;34m\u001b[0m\u001b[0;34m\u001b[0m\u001b[0m\n\u001b[0m\u001b[1;32m    116\u001b[0m \u001b[0;34m\u001b[0m\u001b[0m\n\u001b[1;32m    117\u001b[0m     \u001b[0;32mreturn\u001b[0m \u001b[0mdecorate_context\u001b[0m\u001b[0;34m\u001b[0m\u001b[0;34m\u001b[0m\u001b[0m\n",
            "\u001b[0;32m/usr/local/lib/python3.10/dist-packages/transformers/generation/utils.py\u001b[0m in \u001b[0;36mgenerate\u001b[0;34m(self, inputs, generation_config, logits_processor, stopping_criteria, prefix_allowed_tokens_fn, synced_gpus, assistant_model, streamer, negative_prompt_ids, negative_prompt_attention_mask, **kwargs)\u001b[0m\n\u001b[1;32m   1542\u001b[0m         \u001b[0;32mif\u001b[0m \u001b[0mgeneration_mode\u001b[0m \u001b[0;34m==\u001b[0m \u001b[0mGenerationMode\u001b[0m\u001b[0;34m.\u001b[0m\u001b[0mGREEDY_SEARCH\u001b[0m\u001b[0;34m:\u001b[0m\u001b[0;34m\u001b[0m\u001b[0;34m\u001b[0m\u001b[0m\n\u001b[1;32m   1543\u001b[0m             \u001b[0;31m# 11. run greedy search\u001b[0m\u001b[0;34m\u001b[0m\u001b[0;34m\u001b[0m\u001b[0m\n\u001b[0;32m-> 1544\u001b[0;31m             return self.greedy_search(\n\u001b[0m\u001b[1;32m   1545\u001b[0m                 \u001b[0minput_ids\u001b[0m\u001b[0;34m,\u001b[0m\u001b[0;34m\u001b[0m\u001b[0;34m\u001b[0m\u001b[0m\n\u001b[1;32m   1546\u001b[0m                 \u001b[0mlogits_processor\u001b[0m\u001b[0;34m=\u001b[0m\u001b[0mprepared_logits_processor\u001b[0m\u001b[0;34m,\u001b[0m\u001b[0;34m\u001b[0m\u001b[0;34m\u001b[0m\u001b[0m\n",
            "\u001b[0;32m/usr/local/lib/python3.10/dist-packages/transformers/generation/utils.py\u001b[0m in \u001b[0;36mgreedy_search\u001b[0;34m(self, input_ids, logits_processor, stopping_criteria, max_length, pad_token_id, eos_token_id, output_attentions, output_hidden_states, output_scores, output_logits, return_dict_in_generate, synced_gpus, streamer, **model_kwargs)\u001b[0m\n\u001b[1;32m   2402\u001b[0m \u001b[0;34m\u001b[0m\u001b[0m\n\u001b[1;32m   2403\u001b[0m             \u001b[0;31m# forward pass to get next token\u001b[0m\u001b[0;34m\u001b[0m\u001b[0;34m\u001b[0m\u001b[0m\n\u001b[0;32m-> 2404\u001b[0;31m             outputs = self(\n\u001b[0m\u001b[1;32m   2405\u001b[0m                 \u001b[0;34m**\u001b[0m\u001b[0mmodel_inputs\u001b[0m\u001b[0;34m,\u001b[0m\u001b[0;34m\u001b[0m\u001b[0;34m\u001b[0m\u001b[0m\n\u001b[1;32m   2406\u001b[0m                 \u001b[0mreturn_dict\u001b[0m\u001b[0;34m=\u001b[0m\u001b[0;32mTrue\u001b[0m\u001b[0;34m,\u001b[0m\u001b[0;34m\u001b[0m\u001b[0;34m\u001b[0m\u001b[0m\n",
            "\u001b[0;32m/usr/local/lib/python3.10/dist-packages/torch/nn/modules/module.py\u001b[0m in \u001b[0;36m_wrapped_call_impl\u001b[0;34m(self, *args, **kwargs)\u001b[0m\n\u001b[1;32m   1509\u001b[0m             \u001b[0;32mreturn\u001b[0m \u001b[0mself\u001b[0m\u001b[0;34m.\u001b[0m\u001b[0m_compiled_call_impl\u001b[0m\u001b[0;34m(\u001b[0m\u001b[0;34m*\u001b[0m\u001b[0margs\u001b[0m\u001b[0;34m,\u001b[0m \u001b[0;34m**\u001b[0m\u001b[0mkwargs\u001b[0m\u001b[0;34m)\u001b[0m  \u001b[0;31m# type: ignore[misc]\u001b[0m\u001b[0;34m\u001b[0m\u001b[0;34m\u001b[0m\u001b[0m\n\u001b[1;32m   1510\u001b[0m         \u001b[0;32melse\u001b[0m\u001b[0;34m:\u001b[0m\u001b[0;34m\u001b[0m\u001b[0;34m\u001b[0m\u001b[0m\n\u001b[0;32m-> 1511\u001b[0;31m             \u001b[0;32mreturn\u001b[0m \u001b[0mself\u001b[0m\u001b[0;34m.\u001b[0m\u001b[0m_call_impl\u001b[0m\u001b[0;34m(\u001b[0m\u001b[0;34m*\u001b[0m\u001b[0margs\u001b[0m\u001b[0;34m,\u001b[0m \u001b[0;34m**\u001b[0m\u001b[0mkwargs\u001b[0m\u001b[0;34m)\u001b[0m\u001b[0;34m\u001b[0m\u001b[0;34m\u001b[0m\u001b[0m\n\u001b[0m\u001b[1;32m   1512\u001b[0m \u001b[0;34m\u001b[0m\u001b[0m\n\u001b[1;32m   1513\u001b[0m     \u001b[0;32mdef\u001b[0m \u001b[0m_call_impl\u001b[0m\u001b[0;34m(\u001b[0m\u001b[0mself\u001b[0m\u001b[0;34m,\u001b[0m \u001b[0;34m*\u001b[0m\u001b[0margs\u001b[0m\u001b[0;34m,\u001b[0m \u001b[0;34m**\u001b[0m\u001b[0mkwargs\u001b[0m\u001b[0;34m)\u001b[0m\u001b[0;34m:\u001b[0m\u001b[0;34m\u001b[0m\u001b[0;34m\u001b[0m\u001b[0m\n",
            "\u001b[0;32m/usr/local/lib/python3.10/dist-packages/torch/nn/modules/module.py\u001b[0m in \u001b[0;36m_call_impl\u001b[0;34m(self, *args, **kwargs)\u001b[0m\n\u001b[1;32m   1518\u001b[0m                 \u001b[0;32mor\u001b[0m \u001b[0m_global_backward_pre_hooks\u001b[0m \u001b[0;32mor\u001b[0m \u001b[0m_global_backward_hooks\u001b[0m\u001b[0;34m\u001b[0m\u001b[0;34m\u001b[0m\u001b[0m\n\u001b[1;32m   1519\u001b[0m                 or _global_forward_hooks or _global_forward_pre_hooks):\n\u001b[0;32m-> 1520\u001b[0;31m             \u001b[0;32mreturn\u001b[0m \u001b[0mforward_call\u001b[0m\u001b[0;34m(\u001b[0m\u001b[0;34m*\u001b[0m\u001b[0margs\u001b[0m\u001b[0;34m,\u001b[0m \u001b[0;34m**\u001b[0m\u001b[0mkwargs\u001b[0m\u001b[0;34m)\u001b[0m\u001b[0;34m\u001b[0m\u001b[0;34m\u001b[0m\u001b[0m\n\u001b[0m\u001b[1;32m   1521\u001b[0m \u001b[0;34m\u001b[0m\u001b[0m\n\u001b[1;32m   1522\u001b[0m         \u001b[0;32mtry\u001b[0m\u001b[0;34m:\u001b[0m\u001b[0;34m\u001b[0m\u001b[0;34m\u001b[0m\u001b[0m\n",
            "\u001b[0;32m/usr/local/lib/python3.10/dist-packages/transformers/models/gpt2/modeling_gpt2.py\u001b[0m in \u001b[0;36mforward\u001b[0;34m(self, input_ids, past_key_values, attention_mask, token_type_ids, position_ids, head_mask, inputs_embeds, encoder_hidden_states, encoder_attention_mask, labels, use_cache, output_attentions, output_hidden_states, return_dict)\u001b[0m\n\u001b[1;32m   1072\u001b[0m         \u001b[0mreturn_dict\u001b[0m \u001b[0;34m=\u001b[0m \u001b[0mreturn_dict\u001b[0m \u001b[0;32mif\u001b[0m \u001b[0mreturn_dict\u001b[0m \u001b[0;32mis\u001b[0m \u001b[0;32mnot\u001b[0m \u001b[0;32mNone\u001b[0m \u001b[0;32melse\u001b[0m \u001b[0mself\u001b[0m\u001b[0;34m.\u001b[0m\u001b[0mconfig\u001b[0m\u001b[0;34m.\u001b[0m\u001b[0muse_return_dict\u001b[0m\u001b[0;34m\u001b[0m\u001b[0;34m\u001b[0m\u001b[0m\n\u001b[1;32m   1073\u001b[0m \u001b[0;34m\u001b[0m\u001b[0m\n\u001b[0;32m-> 1074\u001b[0;31m         transformer_outputs = self.transformer(\n\u001b[0m\u001b[1;32m   1075\u001b[0m             \u001b[0minput_ids\u001b[0m\u001b[0;34m,\u001b[0m\u001b[0;34m\u001b[0m\u001b[0;34m\u001b[0m\u001b[0m\n\u001b[1;32m   1076\u001b[0m             \u001b[0mpast_key_values\u001b[0m\u001b[0;34m=\u001b[0m\u001b[0mpast_key_values\u001b[0m\u001b[0;34m,\u001b[0m\u001b[0;34m\u001b[0m\u001b[0;34m\u001b[0m\u001b[0m\n",
            "\u001b[0;32m/usr/local/lib/python3.10/dist-packages/torch/nn/modules/module.py\u001b[0m in \u001b[0;36m_wrapped_call_impl\u001b[0;34m(self, *args, **kwargs)\u001b[0m\n\u001b[1;32m   1509\u001b[0m             \u001b[0;32mreturn\u001b[0m \u001b[0mself\u001b[0m\u001b[0;34m.\u001b[0m\u001b[0m_compiled_call_impl\u001b[0m\u001b[0;34m(\u001b[0m\u001b[0;34m*\u001b[0m\u001b[0margs\u001b[0m\u001b[0;34m,\u001b[0m \u001b[0;34m**\u001b[0m\u001b[0mkwargs\u001b[0m\u001b[0;34m)\u001b[0m  \u001b[0;31m# type: ignore[misc]\u001b[0m\u001b[0;34m\u001b[0m\u001b[0;34m\u001b[0m\u001b[0m\n\u001b[1;32m   1510\u001b[0m         \u001b[0;32melse\u001b[0m\u001b[0;34m:\u001b[0m\u001b[0;34m\u001b[0m\u001b[0;34m\u001b[0m\u001b[0m\n\u001b[0;32m-> 1511\u001b[0;31m             \u001b[0;32mreturn\u001b[0m \u001b[0mself\u001b[0m\u001b[0;34m.\u001b[0m\u001b[0m_call_impl\u001b[0m\u001b[0;34m(\u001b[0m\u001b[0;34m*\u001b[0m\u001b[0margs\u001b[0m\u001b[0;34m,\u001b[0m \u001b[0;34m**\u001b[0m\u001b[0mkwargs\u001b[0m\u001b[0;34m)\u001b[0m\u001b[0;34m\u001b[0m\u001b[0;34m\u001b[0m\u001b[0m\n\u001b[0m\u001b[1;32m   1512\u001b[0m \u001b[0;34m\u001b[0m\u001b[0m\n\u001b[1;32m   1513\u001b[0m     \u001b[0;32mdef\u001b[0m \u001b[0m_call_impl\u001b[0m\u001b[0;34m(\u001b[0m\u001b[0mself\u001b[0m\u001b[0;34m,\u001b[0m \u001b[0;34m*\u001b[0m\u001b[0margs\u001b[0m\u001b[0;34m,\u001b[0m \u001b[0;34m**\u001b[0m\u001b[0mkwargs\u001b[0m\u001b[0;34m)\u001b[0m\u001b[0;34m:\u001b[0m\u001b[0;34m\u001b[0m\u001b[0;34m\u001b[0m\u001b[0m\n",
            "\u001b[0;32m/usr/local/lib/python3.10/dist-packages/torch/nn/modules/module.py\u001b[0m in \u001b[0;36m_call_impl\u001b[0;34m(self, *args, **kwargs)\u001b[0m\n\u001b[1;32m   1518\u001b[0m                 \u001b[0;32mor\u001b[0m \u001b[0m_global_backward_pre_hooks\u001b[0m \u001b[0;32mor\u001b[0m \u001b[0m_global_backward_hooks\u001b[0m\u001b[0;34m\u001b[0m\u001b[0;34m\u001b[0m\u001b[0m\n\u001b[1;32m   1519\u001b[0m                 or _global_forward_hooks or _global_forward_pre_hooks):\n\u001b[0;32m-> 1520\u001b[0;31m             \u001b[0;32mreturn\u001b[0m \u001b[0mforward_call\u001b[0m\u001b[0;34m(\u001b[0m\u001b[0;34m*\u001b[0m\u001b[0margs\u001b[0m\u001b[0;34m,\u001b[0m \u001b[0;34m**\u001b[0m\u001b[0mkwargs\u001b[0m\u001b[0;34m)\u001b[0m\u001b[0;34m\u001b[0m\u001b[0;34m\u001b[0m\u001b[0m\n\u001b[0m\u001b[1;32m   1521\u001b[0m \u001b[0;34m\u001b[0m\u001b[0m\n\u001b[1;32m   1522\u001b[0m         \u001b[0;32mtry\u001b[0m\u001b[0;34m:\u001b[0m\u001b[0;34m\u001b[0m\u001b[0;34m\u001b[0m\u001b[0m\n",
            "\u001b[0;32m/usr/local/lib/python3.10/dist-packages/transformers/models/gpt2/modeling_gpt2.py\u001b[0m in \u001b[0;36mforward\u001b[0;34m(self, input_ids, past_key_values, attention_mask, token_type_ids, position_ids, head_mask, inputs_embeds, encoder_hidden_states, encoder_attention_mask, use_cache, output_attentions, output_hidden_states, return_dict)\u001b[0m\n\u001b[1;32m    836\u001b[0m         \u001b[0;32mif\u001b[0m \u001b[0minputs_embeds\u001b[0m \u001b[0;32mis\u001b[0m \u001b[0;32mNone\u001b[0m\u001b[0;34m:\u001b[0m\u001b[0;34m\u001b[0m\u001b[0;34m\u001b[0m\u001b[0m\n\u001b[1;32m    837\u001b[0m             \u001b[0minputs_embeds\u001b[0m \u001b[0;34m=\u001b[0m \u001b[0mself\u001b[0m\u001b[0;34m.\u001b[0m\u001b[0mwte\u001b[0m\u001b[0;34m(\u001b[0m\u001b[0minput_ids\u001b[0m\u001b[0;34m)\u001b[0m\u001b[0;34m\u001b[0m\u001b[0;34m\u001b[0m\u001b[0m\n\u001b[0;32m--> 838\u001b[0;31m         \u001b[0mposition_embeds\u001b[0m \u001b[0;34m=\u001b[0m \u001b[0mself\u001b[0m\u001b[0;34m.\u001b[0m\u001b[0mwpe\u001b[0m\u001b[0;34m(\u001b[0m\u001b[0mposition_ids\u001b[0m\u001b[0;34m)\u001b[0m\u001b[0;34m\u001b[0m\u001b[0;34m\u001b[0m\u001b[0m\n\u001b[0m\u001b[1;32m    839\u001b[0m         \u001b[0mhidden_states\u001b[0m \u001b[0;34m=\u001b[0m \u001b[0minputs_embeds\u001b[0m \u001b[0;34m+\u001b[0m \u001b[0mposition_embeds\u001b[0m\u001b[0;34m\u001b[0m\u001b[0;34m\u001b[0m\u001b[0m\n\u001b[1;32m    840\u001b[0m \u001b[0;34m\u001b[0m\u001b[0m\n",
            "\u001b[0;32m/usr/local/lib/python3.10/dist-packages/torch/nn/modules/module.py\u001b[0m in \u001b[0;36m_wrapped_call_impl\u001b[0;34m(self, *args, **kwargs)\u001b[0m\n\u001b[1;32m   1509\u001b[0m             \u001b[0;32mreturn\u001b[0m \u001b[0mself\u001b[0m\u001b[0;34m.\u001b[0m\u001b[0m_compiled_call_impl\u001b[0m\u001b[0;34m(\u001b[0m\u001b[0;34m*\u001b[0m\u001b[0margs\u001b[0m\u001b[0;34m,\u001b[0m \u001b[0;34m**\u001b[0m\u001b[0mkwargs\u001b[0m\u001b[0;34m)\u001b[0m  \u001b[0;31m# type: ignore[misc]\u001b[0m\u001b[0;34m\u001b[0m\u001b[0;34m\u001b[0m\u001b[0m\n\u001b[1;32m   1510\u001b[0m         \u001b[0;32melse\u001b[0m\u001b[0;34m:\u001b[0m\u001b[0;34m\u001b[0m\u001b[0;34m\u001b[0m\u001b[0m\n\u001b[0;32m-> 1511\u001b[0;31m             \u001b[0;32mreturn\u001b[0m \u001b[0mself\u001b[0m\u001b[0;34m.\u001b[0m\u001b[0m_call_impl\u001b[0m\u001b[0;34m(\u001b[0m\u001b[0;34m*\u001b[0m\u001b[0margs\u001b[0m\u001b[0;34m,\u001b[0m \u001b[0;34m**\u001b[0m\u001b[0mkwargs\u001b[0m\u001b[0;34m)\u001b[0m\u001b[0;34m\u001b[0m\u001b[0;34m\u001b[0m\u001b[0m\n\u001b[0m\u001b[1;32m   1512\u001b[0m \u001b[0;34m\u001b[0m\u001b[0m\n\u001b[1;32m   1513\u001b[0m     \u001b[0;32mdef\u001b[0m \u001b[0m_call_impl\u001b[0m\u001b[0;34m(\u001b[0m\u001b[0mself\u001b[0m\u001b[0;34m,\u001b[0m \u001b[0;34m*\u001b[0m\u001b[0margs\u001b[0m\u001b[0;34m,\u001b[0m \u001b[0;34m**\u001b[0m\u001b[0mkwargs\u001b[0m\u001b[0;34m)\u001b[0m\u001b[0;34m:\u001b[0m\u001b[0;34m\u001b[0m\u001b[0;34m\u001b[0m\u001b[0m\n",
            "\u001b[0;32m/usr/local/lib/python3.10/dist-packages/torch/nn/modules/module.py\u001b[0m in \u001b[0;36m_call_impl\u001b[0;34m(self, *args, **kwargs)\u001b[0m\n\u001b[1;32m   1518\u001b[0m                 \u001b[0;32mor\u001b[0m \u001b[0m_global_backward_pre_hooks\u001b[0m \u001b[0;32mor\u001b[0m \u001b[0m_global_backward_hooks\u001b[0m\u001b[0;34m\u001b[0m\u001b[0;34m\u001b[0m\u001b[0m\n\u001b[1;32m   1519\u001b[0m                 or _global_forward_hooks or _global_forward_pre_hooks):\n\u001b[0;32m-> 1520\u001b[0;31m             \u001b[0;32mreturn\u001b[0m \u001b[0mforward_call\u001b[0m\u001b[0;34m(\u001b[0m\u001b[0;34m*\u001b[0m\u001b[0margs\u001b[0m\u001b[0;34m,\u001b[0m \u001b[0;34m**\u001b[0m\u001b[0mkwargs\u001b[0m\u001b[0;34m)\u001b[0m\u001b[0;34m\u001b[0m\u001b[0;34m\u001b[0m\u001b[0m\n\u001b[0m\u001b[1;32m   1521\u001b[0m \u001b[0;34m\u001b[0m\u001b[0m\n\u001b[1;32m   1522\u001b[0m         \u001b[0;32mtry\u001b[0m\u001b[0;34m:\u001b[0m\u001b[0;34m\u001b[0m\u001b[0;34m\u001b[0m\u001b[0m\n",
            "\u001b[0;32m/usr/local/lib/python3.10/dist-packages/torch/nn/modules/sparse.py\u001b[0m in \u001b[0;36mforward\u001b[0;34m(self, input)\u001b[0m\n\u001b[1;32m    161\u001b[0m \u001b[0;34m\u001b[0m\u001b[0m\n\u001b[1;32m    162\u001b[0m     \u001b[0;32mdef\u001b[0m \u001b[0mforward\u001b[0m\u001b[0;34m(\u001b[0m\u001b[0mself\u001b[0m\u001b[0;34m,\u001b[0m \u001b[0minput\u001b[0m\u001b[0;34m:\u001b[0m \u001b[0mTensor\u001b[0m\u001b[0;34m)\u001b[0m \u001b[0;34m->\u001b[0m \u001b[0mTensor\u001b[0m\u001b[0;34m:\u001b[0m\u001b[0;34m\u001b[0m\u001b[0;34m\u001b[0m\u001b[0m\n\u001b[0;32m--> 163\u001b[0;31m         return F.embedding(\n\u001b[0m\u001b[1;32m    164\u001b[0m             \u001b[0minput\u001b[0m\u001b[0;34m,\u001b[0m \u001b[0mself\u001b[0m\u001b[0;34m.\u001b[0m\u001b[0mweight\u001b[0m\u001b[0;34m,\u001b[0m \u001b[0mself\u001b[0m\u001b[0;34m.\u001b[0m\u001b[0mpadding_idx\u001b[0m\u001b[0;34m,\u001b[0m \u001b[0mself\u001b[0m\u001b[0;34m.\u001b[0m\u001b[0mmax_norm\u001b[0m\u001b[0;34m,\u001b[0m\u001b[0;34m\u001b[0m\u001b[0;34m\u001b[0m\u001b[0m\n\u001b[1;32m    165\u001b[0m             self.norm_type, self.scale_grad_by_freq, self.sparse)\n",
            "\u001b[0;32m/usr/local/lib/python3.10/dist-packages/torch/nn/functional.py\u001b[0m in \u001b[0;36membedding\u001b[0;34m(input, weight, padding_idx, max_norm, norm_type, scale_grad_by_freq, sparse)\u001b[0m\n\u001b[1;32m   2235\u001b[0m         \u001b[0;31m# remove once script supports set_grad_enabled\u001b[0m\u001b[0;34m\u001b[0m\u001b[0;34m\u001b[0m\u001b[0m\n\u001b[1;32m   2236\u001b[0m         \u001b[0m_no_grad_embedding_renorm_\u001b[0m\u001b[0;34m(\u001b[0m\u001b[0mweight\u001b[0m\u001b[0;34m,\u001b[0m \u001b[0minput\u001b[0m\u001b[0;34m,\u001b[0m \u001b[0mmax_norm\u001b[0m\u001b[0;34m,\u001b[0m \u001b[0mnorm_type\u001b[0m\u001b[0;34m)\u001b[0m\u001b[0;34m\u001b[0m\u001b[0;34m\u001b[0m\u001b[0m\n\u001b[0;32m-> 2237\u001b[0;31m     \u001b[0;32mreturn\u001b[0m \u001b[0mtorch\u001b[0m\u001b[0;34m.\u001b[0m\u001b[0membedding\u001b[0m\u001b[0;34m(\u001b[0m\u001b[0mweight\u001b[0m\u001b[0;34m,\u001b[0m \u001b[0minput\u001b[0m\u001b[0;34m,\u001b[0m \u001b[0mpadding_idx\u001b[0m\u001b[0;34m,\u001b[0m \u001b[0mscale_grad_by_freq\u001b[0m\u001b[0;34m,\u001b[0m \u001b[0msparse\u001b[0m\u001b[0;34m)\u001b[0m\u001b[0;34m\u001b[0m\u001b[0;34m\u001b[0m\u001b[0m\n\u001b[0m\u001b[1;32m   2238\u001b[0m \u001b[0;34m\u001b[0m\u001b[0m\n\u001b[1;32m   2239\u001b[0m \u001b[0;34m\u001b[0m\u001b[0m\n",
            "\u001b[0;31mIndexError\u001b[0m: index out of range in self"
          ]
        }
      ]
    },
    {
      "cell_type": "code",
      "source": [],
      "metadata": {
        "id": "KOpmLraFlYx2"
      },
      "execution_count": null,
      "outputs": []
    },
    {
      "cell_type": "markdown",
      "source": [
        "this part is for testing and will not be part of the final application"
      ],
      "metadata": {
        "id": "F6B883BKngVQ"
      }
    },
    {
      "cell_type": "code",
      "source": [
        "# Assume 'disease_model' is your trained model and 'embeddings_database' is available\n",
        "# Initialize SHAP explainer (should ideally be done outside the main app loop to save resources)\n",
        "\n",
        "print('Disease Diagnosis from Symptoms')\n",
        "print('Please enter the symptoms you are experiencing:')\n",
        "yes = True\n",
        "\n",
        "while yes:\n",
        "    symptoms = input(\"Symptoms\")\n",
        "    explain = \"\"\n",
        "    embedding = generate_embeddings(symptoms)\n",
        "    top_matches = semantic_search(embedding, embeddings_database, top_k=1)\n",
        "    closest_symptom = symptoms_db[top_matches[0]]\n",
        "    closest_embedding = embeddings_database[top_matches[0]]\n",
        "\n",
        "    embedding_tensor = torch.FloatTensor([closest_embedding])\n",
        "    prediction = predict_model(embedding_tensor)\n",
        "    disease = label_encoder.inverse_transform([prediction.argmax().item()])[0]\n",
        "\n",
        "    print(f'Closest Matched Symptom Description: {closest_symptom}')\n",
        "    print(f'Predicted Disease: {disease}')\n",
        "\n",
        "    explain = input(\"do you want explaination: \")\n",
        "    if explain == \"yes\":\n",
        "            # SHAP Value Calculation\n",
        "          shap_values = explainer.shap_values(embedding_tensor)\n",
        "          pyplot(shap.force_plot(explainer.expected_value[0], shap_values[0], feature_names=['Embedding Dimensions']))\n",
        "          pyplot(shap.summary_plot(shap_values, X_test_tensor.numpy(), feature_names =['Embedding Dimensions'] ))\n",
        "          showplot()"
      ],
      "metadata": {
        "id": "y-FIbgs3i5Ue",
        "colab": {
          "base_uri": "https://localhost:8080/"
        },
        "outputId": "02117fc4-db4a-4700-8992-75ea1c2c5109"
      },
      "execution_count": null,
      "outputs": [
        {
          "output_type": "stream",
          "name": "stdout",
          "text": [
            "Overwriting app.py\n"
          ]
        }
      ]
    },
    {
      "cell_type": "markdown",
      "source": [
        "this part is just for testing and will not be used in the final code"
      ],
      "metadata": {
        "id": "cSsc62Oq91PK"
      }
    },
    {
      "cell_type": "code",
      "source": [
        "# Print some statistics of your data to check if it's loaded and scaled correctly\n",
        "print(\"Feature statistics:\")\n",
        "print(\"Mean:\", X_tensor.mean())\n",
        "print(\"Std deviation:\", X_tensor.std())\n",
        "print(\"Max value:\", X_tensor.max())\n",
        "print(\"Min value:\", X_tensor.min())\n",
        "\n",
        "print(\"\\nLabel distribution:\")\n",
        "print(torch.bincount(y_tensor))\n"
      ],
      "metadata": {
        "id": "9hFf7vu87qP3"
      },
      "execution_count": null,
      "outputs": []
    },
    {
      "cell_type": "markdown",
      "source": [
        "this part is just for testing and will not be used in the final code"
      ],
      "metadata": {
        "id": "3zAkoE3D95h8"
      }
    },
    {
      "cell_type": "code",
      "source": [
        "# Print the model architecture\n",
        "print(model)\n",
        "\n",
        "# Check if any weights or biases have become NaN or inf\n",
        "for name, param in model.named_parameters():\n",
        "    if torch.isnan(param).any() or torch.isinf(param).any():\n",
        "        print(f\"Parameter {name} contains NaN or inf\")\n"
      ],
      "metadata": {
        "id": "WTI97NhS7gCi"
      },
      "execution_count": null,
      "outputs": []
    },
    {
      "cell_type": "markdown",
      "source": [
        "this part is just for testing and will not be used in the final code"
      ],
      "metadata": {
        "id": "g2lsZvpq96iU"
      }
    },
    {
      "cell_type": "code",
      "source": [
        "# Detailed training loop with debug information\n",
        "for epoch in range(100):\n",
        "    for i, (inputs, labels) in enumerate(dataloader):\n",
        "        optimizer.zero_grad()\n",
        "        outputs = model(inputs)\n",
        "        loss = criterion(outputs, labels)\n",
        "        if torch.isnan(loss) or loss == 0:\n",
        "            print(f\"NaN or zero loss at epoch {epoch+1}, batch {i+1}\")\n",
        "            print(\"Outputs:\", outputs)\n",
        "            print(\"Labels:\", labels)\n",
        "            break  # Break out of the loop to investigate\n",
        "        loss.backward()\n",
        "        optimizer.step()\n",
        "    print(f\"Epoch {epoch+1}, Loss: {loss.item()}\")\n"
      ],
      "metadata": {
        "id": "nfPjMmqS7s53"
      },
      "execution_count": null,
      "outputs": []
    },
    {
      "cell_type": "markdown",
      "source": [
        "this part is just for testing and will not be used in the final code"
      ],
      "metadata": {
        "id": "HP1926Rt-AuM"
      }
    },
    {
      "cell_type": "code",
      "source": [
        "# Check optimizer's current state\n",
        "print(\"Optimizer state:\", optimizer.state_dict())\n"
      ],
      "metadata": {
        "id": "F3QxLzJF7wIn"
      },
      "execution_count": null,
      "outputs": []
    },
    {
      "cell_type": "markdown",
      "source": [
        "this part is just for testing and will not be used in the final code"
      ],
      "metadata": {
        "id": "anxg5ah5-B90"
      }
    },
    {
      "cell_type": "code",
      "source": [
        "# Check dropout rate in the model definition\n",
        "print(\"Dropout rate:\", model.dropout.p)\n"
      ],
      "metadata": {
        "colab": {
          "base_uri": "https://localhost:8080/"
        },
        "id": "lp7L4vfp7zff",
        "outputId": "be494151-7ca1-43a5-e494-5b36005cacf3"
      },
      "execution_count": null,
      "outputs": [
        {
          "output_type": "stream",
          "name": "stdout",
          "text": [
            "Dropout rate: 0.025584912658500554\n"
          ]
        }
      ]
    },
    {
      "cell_type": "markdown",
      "source": [
        "optuna similar to gridsearch to find best hyperparameters"
      ],
      "metadata": {
        "id": "_GTQI1RZy0Qw"
      }
    },
    {
      "cell_type": "code",
      "source": [],
      "metadata": {
        "id": "y-xGOG6gz-BJ"
      },
      "execution_count": null,
      "outputs": []
    }
  ]
}